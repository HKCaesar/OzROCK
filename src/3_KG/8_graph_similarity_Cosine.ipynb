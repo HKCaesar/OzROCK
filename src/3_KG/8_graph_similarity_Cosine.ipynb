{
 "cells": [
  {
   "cell_type": "markdown",
   "metadata": {},
   "source": [
    "# Similarity Measures\n",
    "### Functions measuring similarity using graph edit distance.\n",
    "#### The graph edit distance is the number of edge/node changes needed to make two graphs isomorphic."
   ]
  },
  {
   "cell_type": "code",
   "execution_count": 64,
   "metadata": {},
   "outputs": [],
   "source": [
    "import os, glob\n",
    "import time, datetime\n",
    "import networkx as nx\n",
    "import numpy as np\n",
    "import simplejson as json\n",
    "from pathlib import Path\n",
    "from node2vec import Node2Vec\n",
    "\n",
    "def save_graph(graph, fname):\n",
    "    nodes = [{'id': n, 'group': graph.nodes[n]['group'], 'degree': str(graph.nodes[n]['degree'])} for n in graph.nodes()]\n",
    "    links = [{'source': u, 'target': v, 'label': d['label']} for u, v, d in graph.edges(data=True)]\n",
    "    with open(fname, 'w') as f:\n",
    "        json.dump({'nodes': nodes, 'links': links}, f, indent=4,)\n",
    "    #print('Graph file %s is created.', fname)\n",
    "\n",
    "def load_graph(filename, name):\n",
    "    d = json.load(open(filename))\n",
    "    g = nx.DiGraph(name=name)\n",
    "    for n in d['nodes']:\n",
    "        if n['group'] != 'OTHER':\n",
    "            g.add_node(n['id'], group = n['group'], degree = n['degree'])\n",
    "    for n in d['links']:\n",
    "        g.add_edge(n['source'], n['target'], label = n['label'])\n",
    "    return g\n",
    "\n",
    "#start_all_time = time.time()\n",
    "#print('STARTED: ', datetime.datetime.now())\n",
    "#hours, rem = divmod(time.time() - start_all_time, 3600)\n",
    "#minutes, seconds = divmod(rem, 60)\n",
    "#print(\"Total processing time: {:0>2}:{:0>2}:{:05.2f}\".format(int(hours),int(minutes),seconds))\n",
    "#print('FINISHED: ', datetime.datetime.now())"
   ]
  },
  {
   "cell_type": "code",
   "execution_count": 65,
   "metadata": {},
   "outputs": [],
   "source": [
    "def get_graph_embedding(graph):\n",
    "    # # Precompute probabilities and generate walks\n",
    "    node2vec = Node2Vec(graph, dimensions=32, walk_length=10, num_walks=10, workers = 4)\n",
    "    # Learn embeddings \n",
    "    model = node2vec.fit(window=5, min_count=1)\n",
    "    print('Num words = ', len(model.wv.vocab))\n",
    "    graph_vectors = [model.wv.get_vector(v) for v in model.wv.vocab]\n",
    "    \n",
    "    return np.mean(graph_vectors, axis=0) "
   ]
  },
  {
   "cell_type": "markdown",
   "metadata": {},
   "source": [
    "#### 1. Generate word embeddings and get the mean vector for each graph in the given folder"
   ]
  },
  {
   "cell_type": "code",
   "execution_count": 66,
   "metadata": {},
   "outputs": [],
   "source": [
    "def calculate_emb(folder_name):\n",
    "    files = glob.glob(os.path.join(folder_name, '*.json'))\n",
    "    num_files = len(files)\n",
    "    print(f\"Total number of input files in '{folder_name}' folder is {num_files}.\")\n",
    "\n",
    "    files = glob.glob(os.path.join(folder_name, '*.json'))\n",
    "    num_files = len(files)\n",
    "    print(f\"Total number of input files in '{folder_name}' folder is {num_files}.\")\n",
    "    graph_embs = {}\n",
    "\n",
    "    for filename in files:\n",
    "        G = load_graph(filename, 'G')\n",
    "        graph_embs[filename] = get_graph_embedding(G)\n",
    "\n",
    "    print('\\nNum files = ', len(files), ', Num scores = ', len(graph_embs)) #, graph_embs)    \n",
    "    return graph_embs"
   ]
  },
  {
   "cell_type": "markdown",
   "metadata": {},
   "source": [
    "#### 2. Rank by the cosine similarity between graph vectors"
   ]
  },
  {
   "cell_type": "code",
   "execution_count": 69,
   "metadata": {},
   "outputs": [],
   "source": [
    "from scipy.spatial.distance import cosine\n",
    "\n",
    "def rank_by_similarity(graph_embs):    \n",
    "    print('Cosine similarity:\\n')\n",
    "    similarity_scores = []\n",
    "    pairs = []\n",
    "    \n",
    "    for i, (f1, emb1) in enumerate(graph_embs.items()):\n",
    "        for j, (f2, emb2) in enumerate(graph_embs.items()):            \n",
    "            if i is not j:\n",
    "                #print('1 - ', str(i)+','+str(j))\n",
    "                #if (str(i)+','+str(j) not in pairs or str(j)+','+str(i) not in pairs):\n",
    "                #if [i,j] in pairs or [j,i] in pairs:\n",
    "                    #continue\n",
    "                    #pairs.append([i,j])\n",
    "                    #print('2 - ', str(i)+','+str(j))\n",
    "                    #pairs.append(str(i)+','+str(j))\n",
    "                    similarity_scores.append([round(1-cosine(emb1, emb2), 2), Path(f1).name, Path(f2).name])\n",
    "    #print(*sorted(similarity_scores, reverse=True), sep='\\n')\n",
    "    return sorted(similarity_scores, reverse=True)"
   ]
  },
  {
   "cell_type": "markdown",
   "metadata": {},
   "source": [
    "#### 3. Run for the folder 'gold'"
   ]
  },
  {
   "cell_type": "code",
   "execution_count": 70,
   "metadata": {},
   "outputs": [
    {
     "name": "stderr",
     "output_type": "stream",
     "text": [
      "Computing transition probabilities: 100%|██████████| 28/28 [00:00<00:00, 16185.30it/s]\n",
      "Computing transition probabilities: 100%|██████████| 178/178 [00:00<00:00, 3934.99it/s]"
     ]
    },
    {
     "name": "stdout",
     "output_type": "stream",
     "text": [
      "Total number of input files in '../wamex_data/wamex_graphs_fastest/gold/' folder is 4.\n",
      "Total number of input files in '../wamex_data/wamex_graphs_fastest/gold/' folder is 4.\n",
      "Num words =  28\n"
     ]
    },
    {
     "name": "stderr",
     "output_type": "stream",
     "text": [
      "\n",
      "Computing transition probabilities: 100%|██████████| 152/152 [00:00<00:00, 5888.92it/s]"
     ]
    },
    {
     "name": "stdout",
     "output_type": "stream",
     "text": [
      "Num words =  178\n"
     ]
    },
    {
     "name": "stderr",
     "output_type": "stream",
     "text": [
      "\n",
      "Computing transition probabilities: 100%|██████████| 29/29 [00:00<00:00, 25532.08it/s]"
     ]
    },
    {
     "name": "stdout",
     "output_type": "stream",
     "text": [
      "Num words =  152\n",
      "Num words =  29\n",
      "\n",
      "Num files =  4 , Num scores =  4\n",
      "Cosine similarity:\n",
      "\n",
      "[0.94, 'gold_a074513_coolgardie_combined_annual_2006_final_13997651.json', 'gold_a072821_coolgardie_combined_annual_2005_12942716.json']\n",
      "[0.94, 'gold_a072821_coolgardie_combined_annual_2005_12942716.json', 'gold_a074513_coolgardie_combined_annual_2006_final_13997651.json']\n",
      "[0.89, 'gold_a084492_coolgardie_annual_report_2009_15818118.json', 'gold_a076168_coolgardie annual report 2007_9968549.json']\n",
      "[0.89, 'gold_a076168_coolgardie annual report 2007_9968549.json', 'gold_a084492_coolgardie_annual_report_2009_15818118.json']\n",
      "[0.48, 'gold_a084492_coolgardie_annual_report_2009_15818118.json', 'gold_a074513_coolgardie_combined_annual_2006_final_13997651.json']\n",
      "[0.48, 'gold_a076168_coolgardie annual report 2007_9968549.json', 'gold_a074513_coolgardie_combined_annual_2006_final_13997651.json']\n",
      "[0.48, 'gold_a074513_coolgardie_combined_annual_2006_final_13997651.json', 'gold_a084492_coolgardie_annual_report_2009_15818118.json']\n",
      "[0.48, 'gold_a074513_coolgardie_combined_annual_2006_final_13997651.json', 'gold_a076168_coolgardie annual report 2007_9968549.json']\n",
      "[0.47, 'gold_a084492_coolgardie_annual_report_2009_15818118.json', 'gold_a072821_coolgardie_combined_annual_2005_12942716.json']\n",
      "[0.47, 'gold_a072821_coolgardie_combined_annual_2005_12942716.json', 'gold_a084492_coolgardie_annual_report_2009_15818118.json']\n",
      "[0.43, 'gold_a076168_coolgardie annual report 2007_9968549.json', 'gold_a072821_coolgardie_combined_annual_2005_12942716.json']\n",
      "[0.43, 'gold_a072821_coolgardie_combined_annual_2005_12942716.json', 'gold_a076168_coolgardie annual report 2007_9968549.json']\n"
     ]
    },
    {
     "name": "stderr",
     "output_type": "stream",
     "text": [
      "\n"
     ]
    }
   ],
   "source": [
    "graph_embs = calculate_emb(r\"../wamex_data/wamex_graphs_fastest/gold/\")\n",
    "ranks = rank_by_similarity(graph_embs)\n",
    "print(*ranks, sep='\\n') # should be 6 pairs for 4 files"
   ]
  },
  {
   "cell_type": "markdown",
   "metadata": {},
   "source": [
    "#### 3. Run for the folder 'iron ore'"
   ]
  },
  {
   "cell_type": "code",
   "execution_count": 71,
   "metadata": {},
   "outputs": [
    {
     "name": "stderr",
     "output_type": "stream",
     "text": [
      "Computing transition probabilities: 100%|██████████| 90/90 [00:00<00:00, 9138.80it/s]\n",
      "Computing transition probabilities: 100%|██████████| 203/203 [00:00<00:00, 5124.70it/s]"
     ]
    },
    {
     "name": "stdout",
     "output_type": "stream",
     "text": [
      "Total number of input files in '../wamex_data/wamex_graphs_fastest/iron_ore/' folder is 7.\n",
      "Total number of input files in '../wamex_data/wamex_graphs_fastest/iron_ore/' folder is 7.\n",
      "Num words =  90\n"
     ]
    },
    {
     "name": "stderr",
     "output_type": "stream",
     "text": [
      "\n",
      "Computing transition probabilities: 100%|██████████| 68/68 [00:00<00:00, 26384.15it/s]\n",
      "Computing transition probabilities: 100%|██████████| 74/74 [00:00<00:00, 20224.05it/s]\n",
      "Computing transition probabilities: 100%|██████████| 59/59 [00:00<00:00, 14853.78it/s]"
     ]
    },
    {
     "name": "stdout",
     "output_type": "stream",
     "text": [
      "Num words =  203\n",
      "Num words =  68\n",
      "Num words =  74\n"
     ]
    },
    {
     "name": "stderr",
     "output_type": "stream",
     "text": [
      "\n",
      "Computing transition probabilities: 100%|██████████| 45/45 [00:00<00:00, 18188.66it/s]\n",
      "Computing transition probabilities: 100%|██████████| 109/109 [00:00<00:00, 7208.07it/s]\n"
     ]
    },
    {
     "name": "stdout",
     "output_type": "stream",
     "text": [
      "Num words =  59\n",
      "Num words =  45\n",
      "Num words =  109\n",
      "\n",
      "Num files =  7 , Num scores =  7\n",
      "Cosine similarity:\n",
      "\n",
      "[0.81, 'a086152_c125_1997_2010a_14952469.json', 'a078606_c125-1997-2008a_12703370.json']\n",
      "[0.81, 'a078606_c125-1997-2008a_12703370.json', 'a086152_c125_1997_2010a_14952469.json']\n",
      "[0.61, 'a075345_c125_2004_2007a_14419765.json', 'a072391_c125_2004_2006a_12728776.json']\n",
      "[0.61, 'a072391_c125_2004_2006a_12728776.json', 'a075345_c125_2004_2007a_14419765.json']\n",
      "[0.5, 'a096981_c125_2010.2012a_15102718.json', 'a075345_c125_2004_2007a_14419765.json']\n",
      "[0.5, 'a078348_c125_2004_2008a_15517251.json', 'a072391_c125_2004_2006a_12728776.json']\n",
      "[0.5, 'a075345_c125_2004_2007a_14419765.json', 'a096981_c125_2010.2012a_15102718.json']\n",
      "[0.5, 'a072391_c125_2004_2006a_12728776.json', 'a078348_c125_2004_2008a_15517251.json']\n",
      "[0.43, 'a078348_c125_2004_2008a_15517251.json', 'a075345_c125_2004_2007a_14419765.json']\n",
      "[0.43, 'a075345_c125_2004_2007a_14419765.json', 'a078348_c125_2004_2008a_15517251.json']\n",
      "[0.39, 'a078606_c125-1997-2008a_12703370.json', 'a072391_c125_2004_2006a_12728776.json']\n",
      "[0.39, 'a072391_c125_2004_2006a_12728776.json', 'a078606_c125-1997-2008a_12703370.json']\n",
      "[0.32, 'a086072_c125_2008_2009a_12463362.json', 'a072391_c125_2004_2006a_12728776.json']\n",
      "[0.32, 'a072391_c125_2004_2006a_12728776.json', 'a086072_c125_2008_2009a_12463362.json']\n",
      "[0.29, 'a078606_c125-1997-2008a_12703370.json', 'a075345_c125_2004_2007a_14419765.json']\n",
      "[0.29, 'a075345_c125_2004_2007a_14419765.json', 'a078606_c125-1997-2008a_12703370.json']\n",
      "[0.28, 'a086152_c125_1997_2010a_14952469.json', 'a072391_c125_2004_2006a_12728776.json']\n",
      "[0.28, 'a072391_c125_2004_2006a_12728776.json', 'a086152_c125_1997_2010a_14952469.json']\n",
      "[0.26, 'a096981_c125_2010.2012a_15102718.json', 'a072391_c125_2004_2006a_12728776.json']\n",
      "[0.26, 'a072391_c125_2004_2006a_12728776.json', 'a096981_c125_2010.2012a_15102718.json']\n",
      "[0.23, 'a078606_c125-1997-2008a_12703370.json', 'a078348_c125_2004_2008a_15517251.json']\n",
      "[0.23, 'a078348_c125_2004_2008a_15517251.json', 'a078606_c125-1997-2008a_12703370.json']\n",
      "[0.21, 'a096981_c125_2010.2012a_15102718.json', 'a086152_c125_1997_2010a_14952469.json']\n",
      "[0.21, 'a086152_c125_1997_2010a_14952469.json', 'a096981_c125_2010.2012a_15102718.json']\n",
      "[0.2, 'a086152_c125_1997_2010a_14952469.json', 'a075345_c125_2004_2007a_14419765.json']\n",
      "[0.2, 'a086072_c125_2008_2009a_12463362.json', 'a078348_c125_2004_2008a_15517251.json']\n",
      "[0.2, 'a078348_c125_2004_2008a_15517251.json', 'a086072_c125_2008_2009a_12463362.json']\n",
      "[0.2, 'a075345_c125_2004_2007a_14419765.json', 'a086152_c125_1997_2010a_14952469.json']\n",
      "[0.18, 'a086152_c125_1997_2010a_14952469.json', 'a078348_c125_2004_2008a_15517251.json']\n",
      "[0.18, 'a078348_c125_2004_2008a_15517251.json', 'a086152_c125_1997_2010a_14952469.json']\n",
      "[0.17, 'a096981_c125_2010.2012a_15102718.json', 'a078606_c125-1997-2008a_12703370.json']\n",
      "[0.17, 'a078606_c125-1997-2008a_12703370.json', 'a096981_c125_2010.2012a_15102718.json']\n",
      "[0.14, 'a096981_c125_2010.2012a_15102718.json', 'a086072_c125_2008_2009a_12463362.json']\n",
      "[0.14, 'a086072_c125_2008_2009a_12463362.json', 'a096981_c125_2010.2012a_15102718.json']\n",
      "[0.06, 'a086072_c125_2008_2009a_12463362.json', 'a075345_c125_2004_2007a_14419765.json']\n",
      "[0.06, 'a075345_c125_2004_2007a_14419765.json', 'a086072_c125_2008_2009a_12463362.json']\n",
      "[0.01, 'a096981_c125_2010.2012a_15102718.json', 'a078348_c125_2004_2008a_15517251.json']\n",
      "[0.01, 'a086072_c125_2008_2009a_12463362.json', 'a078606_c125-1997-2008a_12703370.json']\n",
      "[0.01, 'a078606_c125-1997-2008a_12703370.json', 'a086072_c125_2008_2009a_12463362.json']\n",
      "[0.01, 'a078348_c125_2004_2008a_15517251.json', 'a096981_c125_2010.2012a_15102718.json']\n",
      "[-0.02, 'a086152_c125_1997_2010a_14952469.json', 'a086072_c125_2008_2009a_12463362.json']\n",
      "[-0.02, 'a086072_c125_2008_2009a_12463362.json', 'a086152_c125_1997_2010a_14952469.json']\n"
     ]
    }
   ],
   "source": [
    "graph_embs = calculate_emb(r\"../wamex_data/wamex_graphs_fastest/iron_ore/\")\n",
    "ranks = rank_by_similarity(graph_embs)\n",
    "print(*ranks, sep='\\n')"
   ]
  },
  {
   "cell_type": "code",
   "execution_count": null,
   "metadata": {},
   "outputs": [],
   "source": []
  },
  {
   "cell_type": "raw",
   "metadata": {},
   "source": [
    "from sklearn.metrics.pairwise import cosine_similarity\n",
    "\n",
    "print('Cosine similarity\\n')\n",
    "similarity_scores = []\n",
    "for f1, emb1 in graph_embs.items():\n",
    "    for f2, emb2 in graph_embs.items():\n",
    "        if f1 is not f2:\n",
    "            similarity_scores.append([(cosine_similarity([emb1], [emb2]), 2), Path(f1).name, Path(f2).name])\n",
    "print(*sorted(similarity_scores, reverse=True), sep='\\n')"
   ]
  }
 ],
 "metadata": {
  "kernelspec": {
   "display_name": "Python 3",
   "language": "python",
   "name": "python3"
  },
  "language_info": {
   "codemirror_mode": {
    "name": "ipython",
    "version": 3
   },
   "file_extension": ".py",
   "mimetype": "text/x-python",
   "name": "python",
   "nbconvert_exporter": "python",
   "pygments_lexer": "ipython3",
   "version": "3.6.10"
  }
 },
 "nbformat": 4,
 "nbformat_minor": 4
}
