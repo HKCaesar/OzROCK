{
 "cells": [
  {
   "cell_type": "code",
   "execution_count": 4,
   "metadata": {},
   "outputs": [
    {
     "name": "stdout",
     "output_type": "stream",
     "text": [
      "df_expert =  51295\n",
      "labels_expert =  51295\n",
      "df_dictionary =  51295\n",
      "labels_dict =  51295\n",
      "             precision    recall  f1-score   support\n",
      "\n",
      "  TIMESCALE     0.9426    0.9471    0.9448       208\n",
      "    MINERAL     0.7846    0.9147    0.8447      1278\n",
      "       ROCK     0.7876    0.8106    0.7989      1853\n",
      "ORE_DEPOSIT     0.8675    0.9051    0.8859       369\n",
      "   LOCATION     0.6452    0.8129    0.7194       973\n",
      "      STRAT     0.8865    0.7616    0.8193       646\n",
      "\n",
      "avg / total     0.7844    0.8419    0.8096      5327\n",
      "\n"
     ]
    },
    {
     "data": {
      "text/plain": [
       "'\\ndf_model = pd.read_csv(eval_model, delimiter=\" \", usecols=[\\'Word\\', \\'GroundTruth\\', \\'Predicted\\'],\\n                       encoding=\\'utf-8\\', skip_blank_lines=False) # header=None, \\ndf_model = df_model.replace(np.nan, \\'\\', regex=True)\\n#print(df_model.head(3))\\nprint(len(df_model))\\n'"
      ]
     },
     "execution_count": 4,
     "metadata": {},
     "output_type": "execute_result"
    }
   ],
   "source": [
    "import csv\n",
    "import pandas as pd\n",
    "import numpy as np\n",
    "from seqeval.metrics import classification_report\n",
    "\n",
    "##### EVALUATION set ####\n",
    "eval_experts = r\"../1-2 OzROCK/Files/OzROCK dataset/EvaluationSet_annotated_by_doman_experts.txt\"\n",
    "eval_dictionary = r\"../1-2 OzROCK/Files/OzROCK dataset/EvaluationSet_byDictionary.txt\"\n",
    "#eval_model = r\"../Files/OzROCK dataset/EvaluationSet_trueTag_modelTag.txt\"\n",
    "#eval_merged = r\"Files/OzROCK dataset/EvaluationSet_trueTag_modelTag_mergedTag.txt\"\n",
    "\n",
    "df_expert = pd.read_csv(eval_experts, \n",
    "                   usecols = ['Word', 'TrueLabel'],\n",
    "                   delimiter=\" \", \n",
    "                   na_values=['\\n'], quoting=csv.QUOTE_NONE, encoding='latin1', skip_blank_lines=True)\n",
    "df_expert = df_expert.replace(np.nan, '', regex=True)\n",
    "#print(df_dictionary.head(3))\n",
    "print('df_expert = ', len(df_expert))\n",
    "words_expert = df_expert['Word'].tolist()\n",
    "labels_expert = df_expert['TrueLabel'].tolist() \n",
    "print('labels_expert = ', len(labels_expert))\n",
    "\n",
    "\n",
    "df_dictionary = pd.read_csv(eval_dictionary, delimiter=\" \",\n",
    "                            usecols=['Word', 'DictionaryLabel'],\n",
    "                            encoding='utf-8', skip_blank_lines=True) # header=None,\n",
    "df_dictionary = df_dictionary.replace(np.nan, '', regex=True)\n",
    "#print(df_dictionary.head(3))\n",
    "print('df_dictionary = ', len(df_dictionary))\n",
    "labels_dict = df_dictionary['DictionaryLabel'].tolist() \n",
    "print('labels_dict = ', len(labels_dict))\n",
    "\n",
    "\n",
    "#labels_expert = [x for x in labels_expert if x]\n",
    "#labels_merged = [x for x in labels_merged if x]\n",
    "#sklearn.metrics.classification_report(y_true, y_pred, labels=None, target_names=None, sample_weight=None, digits=2, output_dict=False, zero_division='warn')\n",
    "print(classification_report(labels_expert, labels_dict, digits=4)) #, average='micro')) #, digits=2))\n",
    "\n",
    "\"\"\"\n",
    "df_model = pd.read_csv(eval_model, delimiter=\" \", usecols=['Word', 'GroundTruth', 'Predicted'],\n",
    "                       encoding='utf-8', skip_blank_lines=False) # header=None, \n",
    "df_model = df_model.replace(np.nan, '', regex=True)\n",
    "#print(df_model.head(3))\n",
    "print(len(df_model))\n",
    "\"\"\""
   ]
  },
  {
   "cell_type": "code",
   "execution_count": null,
   "metadata": {},
   "outputs": [],
   "source": [
    "import csv\n",
    "import pandas as pd\n",
    "import numpy as np\n",
    "\n",
    "filename = r\"ROCK_Labeled_Geological_Dataset.txt\"\n",
    "\n",
    "df = pd.read_csv(filename, quoting=csv.QUOTE_NONE,\n",
    "                 header = None,\n",
    "                 encoding='Latin1', skip_blank_lines=True, sep=' ')\n",
    "df = df.replace(np.nan, '', regex=True)\n",
    "print(df.head(3))\n",
    "print(len(df))\n",
    "\n",
    "print(\"Numbers: \\n\", df[1].value_counts())"
   ]
  },
  {
   "cell_type": "code",
   "execution_count": 19,
   "metadata": {},
   "outputs": [
    {
     "name": "stdout",
     "output_type": "stream",
     "text": [
      "  Sentence    Word DictionaryTag PredictionTag ExpertTag NiceToHave Comment\n",
      "0        1     The             O             O         O                   \n",
      "1             most             O             O         O                   \n",
      "2           common             O             O         O                   \n",
      "2638\n",
      "Numbers: \n",
      " O                1161\n",
      "                  880\n",
      "I-STRAT           139\n",
      "B-STRAT           106\n",
      "B-LOCATION         80\n",
      "I-LOCATION         77\n",
      "B-ROCK             73\n",
      "B-MINERAL          42\n",
      "I-ROCK             25\n",
      "B-ORE_DEPOSIT      21\n",
      "I-ORE_DEPOSIT      14\n",
      "B-TIMESCALE        12\n",
      "I-MINERAL           7\n",
      "B-R                 1\n",
      "Name: ExpertTag, dtype: int64\n"
     ]
    }
   ],
   "source": [
    "filename = r\"Expert/95_sentences.tsv\"\n",
    "\n",
    "df = pd.read_csv(filename, quoting=csv.QUOTE_NONE,                 \n",
    "                 encoding='Latin1', skip_blank_lines=True, sep='\\t')\n",
    "df = df.replace(np.nan, '', regex=True)\n",
    "print(df.head(3))\n",
    "print(len(df))\n",
    "\n",
    "print(\"Numbers: \\n\", df['ExpertTag'].value_counts())"
   ]
  },
  {
   "cell_type": "code",
   "execution_count": null,
   "metadata": {},
   "outputs": [],
   "source": []
  },
  {
   "cell_type": "code",
   "execution_count": null,
   "metadata": {},
   "outputs": [],
   "source": []
  }
 ],
 "metadata": {
  "kernelspec": {
   "display_name": "Python 3",
   "language": "python",
   "name": "python3"
  },
  "language_info": {
   "codemirror_mode": {
    "name": "ipython",
    "version": 3
   },
   "file_extension": ".py",
   "mimetype": "text/x-python",
   "name": "python",
   "nbconvert_exporter": "python",
   "pygments_lexer": "ipython3",
   "version": "3.6.6"
  }
 },
 "nbformat": 4,
 "nbformat_minor": 2
}
