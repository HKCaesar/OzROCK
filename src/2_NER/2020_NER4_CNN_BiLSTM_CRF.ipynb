{
 "cells": [
  {
   "cell_type": "markdown",
   "metadata": {},
   "source": [
    "# Sequence Tagging: Bidirectional LSTM + CNN\n",
    "\n",
    "Source: https://github.com/FanhuaandLuomu/BiLstm_CNN_CRF_CWS/blob/master/bilstm_cnn_crf.py"
   ]
  },
  {
   "cell_type": "code",
   "execution_count": 1,
   "metadata": {},
   "outputs": [
    {
     "name": "stdout",
     "output_type": "stream",
     "text": [
      "Num sentences =  31813\n",
      "Num words in training set =  24819\n"
     ]
    },
    {
     "data": {
      "text/plain": [
       "<Figure size 640x480 with 1 Axes>"
      ]
     },
     "metadata": {},
     "output_type": "display_data"
    }
   ],
   "source": [
    "import glob, os, csv, sys\n",
    "import pandas as pd\n",
    "import numpy as np\n",
    "import matplotlib.pyplot as plt\n",
    "plt.style.use('ggplot')\n",
    "\n",
    "# AUTO-LABELLED DATA SET = TRAIN SET + VALIDATION SET\n",
    "filename = r\"../1-2 OzROCK/Files/OzROCK dataset/BIG_set_byDictionary.txt\"\n",
    "words = []\n",
    "tags = []\n",
    "train_sentences = []\n",
    "\n",
    "with open(filename, 'r') as file :\n",
    "    currSentence = []\n",
    "    lines = []\n",
    "    for line in file:\n",
    "        cols = line.split(\" \") # should be lower-case already\n",
    "        if line.strip() == '':\n",
    "            # Reset sentence            \n",
    "            train_sentences.append(currSentence)\n",
    "            currSentence = []\n",
    "        elif len(cols) > 2:\n",
    "            print(line)\n",
    "        else:\n",
    "            currSentence.append([cols[0].strip(), cols[1].strip()])\n",
    "            words.append(cols[0].strip())\n",
    "            tags.append(cols[1].strip())\n",
    "print('Num sentences = ', len(train_sentences)) # 18589; 160,343\n",
    "\n",
    "train_words = list(set(words))\n",
    "print('Num words in training set = ', len(train_words))\n",
    "\n",
    "train_sent_lengths = [len(s) for s in train_sentences]\n",
    "\n",
    "plt.hist(train_sent_lengths, density=1, bins=1000) # x value is bins\n",
    "plt.axis([0, 140, 0, 0.1])  # xmin,xmax,ymin,ymax\n",
    "plt.xlabel('Sentence Length')\n",
    "plt.ylabel('Percentage of sentences')\n",
    "\n",
    "plt.show()"
   ]
  },
  {
   "cell_type": "code",
   "execution_count": 2,
   "metadata": {
    "scrolled": true
   },
   "outputs": [
    {
     "name": "stdout",
     "output_type": "stream",
     "text": [
      "Num lines =  53295\n",
      "Num test_sentences =  2000\n",
      "Num test_words =  4910\n",
      "13\n"
     ]
    },
    {
     "data": {
      "image/png": "[encoded data removed]",
      "text/plain": [
       "<Figure size 432x288 with 1 Axes>"
      ]
     },
     "metadata": {
      "needs_background": "light"
     },
     "output_type": "display_data"
    }
   ],
   "source": [
    "# TEST DATA - manually annotated\n",
    "file_in = r\"../1-2 OzROCK/Files/OzROCK dataset/EvaluationSet_annotated_by_doman_experts.txt\" # TestSet_March02\n",
    "filename_result = r\"../1-2 OzROCK/Files/OzROCK dataset/EvaluationSet_trueTag_modelTag.txt\" # Evaluation set (expert-annotated) (predicted)\n",
    "\n",
    "#test_data = pd.read_csv(filename, header = None, delimiter=\" \", na_values=['\\n'], quoting=csv.QUOTE_NONE, encoding='latin1', skip_blank_lines=True)\n",
    "#print(test_data.info())\n",
    "#print(test_data.head(10))\n",
    "test_words = []\n",
    "test_sentences = []\n",
    "c = 0\n",
    "with open(file_in, 'r') as file :\n",
    "    currSentence = []\n",
    "    lines = []\n",
    "    file.readline()\n",
    "    for line in file:\n",
    "        try:\n",
    "            c += 1\n",
    "            cols = line.strip().split(\" \")\n",
    "            if line.strip() == '':\n",
    "                # Reset sentence            \n",
    "                test_sentences.append(currSentence)\n",
    "                currSentence = []\n",
    "            elif len(cols) > 2:\n",
    "                print('more than 2 columns: ', line)\n",
    "            else :\n",
    "                currSentence.append([cols[0].lower().strip(), cols[1].strip()])            \n",
    "                test_words.append(cols[0].lower().strip())\n",
    "        except:\n",
    "            print('error: ', c, line)\n",
    "\n",
    "test_words = list(set(test_words))\n",
    "print('Num lines = ', c)\n",
    "print('Num test_sentences = ', len(test_sentences)) # 18589; 160,343\n",
    "print('Num test_words = ', len(test_words))\n",
    "\"\"\"\n",
    "with open(file_in, 'r') as f:\n",
    "    test_sentences = f.readlines()\n",
    "    test_sentences = [x.strip() for x in test_sentences]\n",
    "print('Num sentences = ', len(test_sentences))\n",
    "print(test_sentences[0])\n",
    "\n",
    "for s in test_sentences:\n",
    "    for w in s.split():\n",
    "        test_words.append(w.strip())\n",
    "\"\"\"\n",
    "#words = list(set(test_words + train_words))\n",
    "#print('Num words in training + test sets = ', len(set(train_words)), len(set(test_words)), len(words))\n",
    "\n",
    "test_sent_lengths = [len(s) for s in test_sentences]\n",
    "print(test_sent_lengths[0])\n",
    "\n",
    "plt.hist(test_sent_lengths, density=1, bins=1000) # x value is bins\n",
    "plt.axis([0, 140, 0, 0.1])  # xmin,xmax,ymin,ymax\n",
    "plt.xlabel('Sentence Length')\n",
    "plt.ylabel('Percentage of sentences')\n",
    "\n",
    "plt.show()"
   ]
  },
  {
   "cell_type": "code",
   "execution_count": 3,
   "metadata": {},
   "outputs": [
    {
     "name": "stdout",
     "output_type": "stream",
     "text": [
      "Number of unique words in this file:  874760\n",
      "Number of unique tags in this file:  13\n"
     ]
    }
   ],
   "source": [
    "words.append(\"ENDPAD\")\n",
    "n_words = len(words) # unique words per file\n",
    "print(\"Number of unique words in this file: \", n_words)\n",
    "\n",
    "tags = list(set(tags))\n",
    "n_tags = len(tags)\n",
    "print(\"Number of unique tags in this file: \", n_tags)"
   ]
  },
  {
   "cell_type": "raw",
   "metadata": {},
   "source": [
    "sent_lengths = [len(s) for s in train_sentences]\n",
    "\n",
    "plt.hist(sent_lengths, bins=1000) # x value is bins\n",
    "plt.axis([0, 140, 0, 300])  # xmin,xmax,ymin,ymax\n",
    "plt.xlabel('Sentence Length')\n",
    "plt.ylabel('Number of sentences')\n",
    "\n",
    "plt.show()\n",
    "# dictionaries of words and tags.#print(sent_lengths)\n",
    "# "
   ]
  },
  {
   "cell_type": "markdown",
   "metadata": {},
   "source": [
    "### To encode the character-level information, we will use character embeddings and a LSTM to encode every word to an vector.\n",
    "We can use anyything that produces a single vector for a sequence of characters that represent a word. (a max-pooling architecture or a CNN)\n",
    "\n",
    "Then we feed the vector to another LSTM together with the learned word embedding."
   ]
  },
  {
   "cell_type": "code",
   "execution_count": 4,
   "metadata": {},
   "outputs": [
    {
     "name": "stdout",
     "output_type": "stream",
     "text": [
      "874537\n",
      "7\n"
     ]
    }
   ],
   "source": [
    "max_len = 100\n",
    "\n",
    "word2idx = {w: i + 1 for i, w in enumerate(words)}\n",
    "tag2idx = {t: i for i, t in enumerate(tags)}\n",
    "\n",
    "print(word2idx[\"gold\"]) # id=3818\n",
    "print(tag2idx[\"B-MINERAL\"]) # id = 9"
   ]
  },
  {
   "cell_type": "raw",
   "metadata": {},
   "source": [
    "#import tensorflow\n",
    "!python --version"
   ]
  },
  {
   "cell_type": "code",
   "execution_count": 5,
   "metadata": {},
   "outputs": [
    {
     "name": "stderr",
     "output_type": "stream",
     "text": [
      "Using TensorFlow backend.\n"
     ]
    }
   ],
   "source": [
    "# Map the senctences to a sequence of numbers and then pad the sequence\n",
    "# We increased the index of the words by one to use zero as a padding value, \n",
    "# because we want to use the mask_zero parameter of the embedding layer to ignore inputs with value zero\n",
    "\n",
    "from keras.preprocessing.sequence import pad_sequences\n",
    "\n",
    "X = [[word2idx[w[0]] for w in s] for s in train_sentences]\n",
    "\n",
    "# Pad the sentences\n",
    "#X_word = pad_sequences(maxlen=max_len, sequences=X_word, value=word2idx[\"PAD\"], padding='post', truncating='post')\n",
    "X = pad_sequences(maxlen=max_len, sequences=X, padding=\"post\", value=n_words-1)\n",
    "\n",
    "y = [[tag2idx[w[1]] for w in s] for s in train_sentences]\n",
    "y = pad_sequences(maxlen=max_len, sequences=y, padding=\"post\", value=tag2idx[\"O\"])"
   ]
  },
  {
   "cell_type": "code",
   "execution_count": 6,
   "metadata": {},
   "outputs": [
    {
     "name": "stdout",
     "output_type": "stream",
     "text": [
      "[874174 874119 874602 874344 854590 874749 872519 872487 874755 874636\n",
      " 874637 874759 874759 874759 874759 874759 874759 874759 874759 874759\n",
      " 874759 874759 874759 874759 874759 874759 874759 874759 874759 874759\n",
      " 874759 874759 874759 874759 874759 874759 874759 874759 874759 874759\n",
      " 874759 874759 874759 874759 874759 874759 874759 874759 874759 874759\n",
      " 874759 874759 874759 874759 874759 874759 874759 874759 874759 874759\n",
      " 874759 874759 874759 874759 874759 874759 874759 874759 874759 874759\n",
      " 874759 874759 874759 874759 874759 874759 874759 874759 874759 874759\n",
      " 874759 874759 874759 874759 874759 874759 874759 874759 874759 874759\n",
      " 874759 874759 874759 874759 874759 874759 874759 874759 874759 874759]\n",
      "[11 11 11  7  7 11 11 11 11 11 11 11 11 11 11 11 11 11 11 11 11 11 11 11\n",
      " 11 11 11 11 11 11 11 11 11 11 11 11 11 11 11 11 11 11 11 11 11 11 11 11\n",
      " 11 11 11 11 11 11 11 11 11 11 11 11 11 11 11 11 11 11 11 11 11 11 11 11\n",
      " 11 11 11 11 11 11 11 11 11 11 11 11 11 11 11 11 11 11 11 11 11 11 11 11\n",
      " 11 11 11 11]\n"
     ]
    }
   ],
   "source": [
    "words[0] = 'NaN'\n",
    "\n",
    "#words[:10]\n",
    "print(X[1])\n",
    "print(y[1])"
   ]
  },
  {
   "cell_type": "code",
   "execution_count": 7,
   "metadata": {
    "scrolled": true
   },
   "outputs": [
    {
     "name": "stdout",
     "output_type": "stream",
     "text": [
      "[874174 874119 874602 874344 854590 874749 872519 872487 874755 874636\n",
      " 874637 874759 874759 874759 874759 874759 874759 874759 874759 874759\n",
      " 874759 874759 874759 874759 874759 874759 874759 874759 874759 874759\n",
      " 874759 874759 874759 874759 874759 874759 874759 874759 874759 874759\n",
      " 874759 874759 874759 874759 874759 874759 874759 874759 874759 874759\n",
      " 874759 874759 874759 874759 874759 874759 874759 874759 874759 874759\n",
      " 874759 874759 874759 874759 874759 874759 874759 874759 874759 874759\n",
      " 874759 874759 874759 874759 874759 874759 874759 874759 874759 874759\n",
      " 874759 874759 874759 874759 874759 874759 874759 874759 874759 874759\n",
      " 874759 874759 874759 874759 874759 874759 874759 874759 874759 874759]\n",
      "[[0. 0. 0. ... 0. 1. 0.]\n",
      " [0. 0. 0. ... 0. 1. 0.]\n",
      " [0. 0. 0. ... 0. 1. 0.]\n",
      " ...\n",
      " [0. 0. 0. ... 0. 1. 0.]\n",
      " [0. 0. 0. ... 0. 1. 0.]\n",
      " [0. 0. 0. ... 0. 1. 0.]]\n"
     ]
    }
   ],
   "source": [
    "from keras.utils import to_categorical # Converts a class vector (integers) to binary class matrix.\n",
    "\n",
    "# Converts a class vector (integers) to binary class matrix (each class as a one-hot vector)\n",
    "y = [to_categorical(i, num_classes=n_tags) for i in y]\n",
    "\n",
    "print(X[1])\n",
    "print(y[1])"
   ]
  },
  {
   "cell_type": "code",
   "execution_count": 8,
   "metadata": {},
   "outputs": [],
   "source": [
    "# We split in train and test set.\n",
    "from sklearn.model_selection import train_test_split\n",
    "\n",
    "X_tr, X_te, y_tr, y_te = train_test_split(X, y, test_size=0.2)"
   ]
  },
  {
   "cell_type": "code",
   "execution_count": 9,
   "metadata": {},
   "outputs": [
    {
     "name": "stdout",
     "output_type": "stream",
     "text": [
      "(25450, 100)\n",
      "25450\n",
      "(6363, 100)\n",
      "6363\n"
     ]
    }
   ],
   "source": [
    "print(X_tr.shape)\n",
    "print(len(y_tr))\n",
    "print(X_te.shape)\n",
    "print(len(y_te))"
   ]
  },
  {
   "cell_type": "code",
   "execution_count": 10,
   "metadata": {
    "scrolled": true
   },
   "outputs": [
    {
     "name": "stdout",
     "output_type": "stream",
     "text": [
      "100\n"
     ]
    }
   ],
   "source": [
    "import string\n",
    "chars = [s for s in string.printable]\n",
    "n_chars = len(chars)\n",
    "print(n_chars)\n",
    "#chars"
   ]
  },
  {
   "cell_type": "raw",
   "metadata": {},
   "source": [
    "!pip install git+https://www.github.com/keras-team/keras-contrib.git"
   ]
  },
  {
   "cell_type": "code",
   "execution_count": 11,
   "metadata": {},
   "outputs": [
    {
     "name": "stdout",
     "output_type": "stream",
     "text": [
      "874760\n",
      "72\n",
      "Diff:  {'M', '\\x0b', 'R', 'X', 'H', 'C', 'Z', 'V', 'Y', '\\\\', 'W', 'U', ' ', 'Q', '\\n', '\\t', 'L', 'G', 'T', '\\x0c', 'I', '\\r', 'B', 'F', 'S', 'J', 'O', 'K'}\n",
      "Diff:  set()\n"
     ]
    }
   ],
   "source": [
    "#chars = set([w_i for w in words for w_i in w])\n",
    "print(len(words))\n",
    "\n",
    "chars2 = []\n",
    "for w in words:\n",
    "    #print(w)\n",
    "    if w is np.nan:\n",
    "        print(\"nan found\")\n",
    "        continue\n",
    "    for w_i in w:\n",
    "        #print(w_i)\n",
    "        if w_i is np.nan:\n",
    "            print(\"nan found\")\n",
    "            continue\n",
    "        if (w_i not in chars2):\n",
    "            chars2.append(w_i)\n",
    "\n",
    "n_chars2 = len(chars2)\n",
    "print(n_chars2)\n",
    "#print(chars2)\n",
    "\n",
    "print(\"Diff: \", set(chars) - set(chars2))\n",
    "print(\"Diff: \", set(chars2) - set(chars))"
   ]
  },
  {
   "cell_type": "code",
   "execution_count": 12,
   "metadata": {},
   "outputs": [],
   "source": [
    "import keras\n",
    "from keras.layers import *\n",
    "from keras.models import *\n",
    "from keras_contrib.layers import CRF\n",
    "\n",
    "#from keras import backend as K\n",
    "\n",
    "from keras.utils import plot_model\n",
    "from keras.utils import np_utils\n",
    "\n",
    "# input:\n",
    "# maxlen  char_value_dict_len  class_label_count\n",
    "def Bilstm_CNN_Crf(maxlen, char_value_dict_len, class_label_count):\n",
    "    \n",
    "    word_input = Input(shape=(maxlen,), dtype='int32', name='word_input')\n",
    "    \n",
    "    word_emb = Embedding(char_value_dict_len + 2, output_dim=64, input_length=maxlen, name='word_emb')(word_input)\n",
    "    \n",
    "    ### word emb - bilstm\n",
    "    bilstm = Bidirectional(LSTM(100, return_sequences=True))(word_emb)\n",
    "    bilstm_d = Dropout(0.5)(bilstm)\n",
    "    bilstm_td = TimeDistributed(Dense(100, activation=\"relu\"))(bilstm_d)\n",
    "\n",
    "    ### character emb - cnn\n",
    "    half_window_size=1\n",
    "    padding_layer=ZeroPadding1D(padding=half_window_size)(word_emb)\n",
    "    \n",
    "    conv=Conv1D(nb_filter=64, filter_length=2*half_window_size+1, padding='valid')(padding_layer)\n",
    "    conv_d=Dropout(0.1)(conv)\n",
    "    dense_conv=TimeDistributed(Dense(64))(conv_d)\n",
    "\n",
    "    #char_input = Input(shape=(maxCharSize * max_words,), dtype='int32', name='char_input')\n",
    "    #char_emb = Embedding(char_vocab_size, char_embedding_dim, input_length=max_words*maxCharSize, dropout=dropout, name='char_emb')(char_input)\n",
    "    #char_cnn = Convolution1D(nb_filter=nb_filters,filter_length= window_length, activation='tanh', border_mode='full') (char_emb) \n",
    "    #char_max_pooling = MaxPooling1D(pool_length=maxCharSize) (char_cnn) #  get output per word. this is the size of the hidden layer\n",
    "\n",
    "    ### MERGE \n",
    "    #rnn_cnn_merge = merge([bilstm_d,dense_conv],mode='concat',concat_axis=2)\n",
    "    rnn_cnn_merge = concatenate([bilstm_td,dense_conv], axis = 2)\n",
    "    \n",
    "    #rnn_cnn_merge = merge([bilstm_d, dense_conv], mode='concat', concat_axis=2, name ='rnn_cnn_merge')\n",
    "    #emb_droput = Dropout(dropout)(total_emb)\n",
    "    \n",
    "    ##### ????????????\n",
    "    #dense=TimeDistributed(Dense(class_label_count))(rnn_cnn_merge)\n",
    "    dense = TimeDistributed(Dense(82))(rnn_cnn_merge) # 14 classes or half of rnn_cnn_merge = 82 = 164/2\n",
    "\n",
    "    #dense = TimeDistributed(Dense(50, activation=\"relu\"))(rnn_cnn_merge)  # a dense layer as suggested by neuralNer\n",
    "\n",
    "    ### CRF\n",
    "    crf = CRF(class_label_count, sparse_target=False)\n",
    "    #crf = CRF(class_label_count)  # CRF layer\n",
    "    crf_output = crf(dense)  # output\n",
    "    \n",
    "    # build model\n",
    "    model = Model(input = [word_input], output = [crf_output])\n",
    "    #model = Model(input = word_input, output = crf_output)\n",
    "\n",
    "    #model.compile(loss=crf.loss_function, optimizer='adam', metrics=[crf.accuracy]) # optimizer=\"rmsprop\"\n",
    "    model.compile(loss=crf.loss_function, optimizer='rmsprop', metrics=[crf.accuracy]) # optimizer=\"rmsprop\"\n",
    "\n",
    "    #model.summary()\n",
    "    return model"
   ]
  },
  {
   "cell_type": "raw",
   "metadata": {},
   "source": [
    "#!pip install pydot\n",
    "#!pip install pydotplus\n",
    "!pip install graphviz"
   ]
  },
  {
   "cell_type": "code",
   "execution_count": 13,
   "metadata": {},
   "outputs": [
    {
     "name": "stdout",
     "output_type": "stream",
     "text": [
      "100 100 13\n"
     ]
    },
    {
     "name": "stderr",
     "output_type": "stream",
     "text": [
      "/Users/majiga/anaconda3/lib/python3.6/site-packages/ipykernel_launcher.py:28: UserWarning: Update your `Conv1D` call to the Keras 2 API: `Conv1D(padding=\"valid\", filters=64, kernel_size=3)`\n",
      "/Users/majiga/anaconda3/lib/python3.6/site-packages/ipykernel_launcher.py:56: UserWarning: Update your `Model` call to the Keras 2 API: `Model(inputs=[<tf.Tenso..., outputs=[<tf.Tenso...)`\n",
      "/Users/majiga/anaconda3/lib/python3.6/site-packages/keras_contrib/layers/crf.py:346: UserWarning: CRF.loss_function is deprecated and it might be removed in the future. Please use losses.crf_loss instead.\n",
      "  warnings.warn('CRF.loss_function is deprecated '\n",
      "/Users/majiga/anaconda3/lib/python3.6/site-packages/keras_contrib/layers/crf.py:353: UserWarning: CRF.accuracy is deprecated and it might be removed in the future. Please use metrics.crf_accuracy\n",
      "  warnings.warn('CRF.accuracy is deprecated and it '\n"
     ]
    },
    {
     "name": "stdout",
     "output_type": "stream",
     "text": [
      "(None, 100)\n",
      "(None, 100, 13)\n",
      "Model: \"model_1\"\n",
      "__________________________________________________________________________________________________\n",
      "Layer (type)                    Output Shape         Param #     Connected to                     \n",
      "==================================================================================================\n",
      "word_input (InputLayer)         (None, 100)          0                                            \n",
      "__________________________________________________________________________________________________\n",
      "word_emb (Embedding)            (None, 100, 64)      55984768    word_input[0][0]                 \n",
      "__________________________________________________________________________________________________\n",
      "zero_padding1d_1 (ZeroPadding1D (None, 102, 64)      0           word_emb[0][0]                   \n",
      "__________________________________________________________________________________________________\n",
      "bidirectional_1 (Bidirectional) (None, 100, 200)     132000      word_emb[0][0]                   \n",
      "__________________________________________________________________________________________________\n",
      "conv1d_1 (Conv1D)               (None, 100, 64)      12352       zero_padding1d_1[0][0]           \n",
      "__________________________________________________________________________________________________\n",
      "dropout_1 (Dropout)             (None, 100, 200)     0           bidirectional_1[0][0]            \n",
      "__________________________________________________________________________________________________\n",
      "dropout_2 (Dropout)             (None, 100, 64)      0           conv1d_1[0][0]                   \n",
      "__________________________________________________________________________________________________\n",
      "time_distributed_1 (TimeDistrib (None, 100, 100)     20100       dropout_1[0][0]                  \n",
      "__________________________________________________________________________________________________\n",
      "time_distributed_2 (TimeDistrib (None, 100, 64)      4160        dropout_2[0][0]                  \n",
      "__________________________________________________________________________________________________\n",
      "concatenate_1 (Concatenate)     (None, 100, 164)     0           time_distributed_1[0][0]         \n",
      "                                                                 time_distributed_2[0][0]         \n",
      "__________________________________________________________________________________________________\n",
      "time_distributed_3 (TimeDistrib (None, 100, 82)      13530       concatenate_1[0][0]              \n",
      "__________________________________________________________________________________________________\n",
      "crf_1 (CRF)                     (None, 100, 13)      1274        time_distributed_3[0][0]         \n",
      "==================================================================================================\n",
      "Total params: 56,168,184\n",
      "Trainable params: 56,168,184\n",
      "Non-trainable params: 0\n",
      "__________________________________________________________________________________________________\n"
     ]
    },
    {
     "data": {
      "image/png": "[encoded data removed]",
      "text/plain": [
       "<IPython.core.display.Image object>"
      ]
     },
     "execution_count": 13,
     "metadata": {},
     "output_type": "execute_result"
    }
   ],
   "source": [
    "#maxlen,char_value_dict_len,class_label_count=100,1000,4\n",
    "#char_value_dict_len=100\n",
    "print(max_len, n_chars, n_tags)\n",
    "#model=Bilstm_CNN_Crf(max_len, n_chars, n_tags)\n",
    "model=Bilstm_CNN_Crf(max_len, n_words, n_tags)\n",
    "\n",
    "print(model.input_shape)\n",
    "print(model.output_shape)\n",
    "\n",
    "model.summary()\n",
    "plot_model(model, to_file='model_CNN.png', show_shapes=True, show_layer_names=True)"
   ]
  },
  {
   "cell_type": "code",
   "execution_count": 14,
   "metadata": {
    "scrolled": true
   },
   "outputs": [
    {
     "name": "stdout",
     "output_type": "stream",
     "text": [
      "Train on 20360 samples, validate on 5090 samples\n",
      "Epoch 1/40\n",
      " - 615s - loss: 0.0517 - crf_viterbi_accuracy: 0.9870 - val_loss: 0.0086 - val_crf_viterbi_accuracy: 0.9968\n",
      "Epoch 2/40\n",
      " - 1057s - loss: 0.0026 - crf_viterbi_accuracy: 0.9975 - val_loss: -1.5546e-03 - val_crf_viterbi_accuracy: 0.9978\n",
      "Epoch 3/40\n",
      " - 1027s - loss: -6.7385e-03 - crf_viterbi_accuracy: 0.9983 - val_loss: -8.6644e-03 - val_crf_viterbi_accuracy: 0.9979\n",
      "Epoch 4/40\n",
      " - 1036s - loss: -1.4278e-02 - crf_viterbi_accuracy: 0.9986 - val_loss: -1.6178e-02 - val_crf_viterbi_accuracy: 0.9982\n",
      "Epoch 5/40\n",
      " - 844s - loss: -2.1485e-02 - crf_viterbi_accuracy: 0.9989 - val_loss: -2.2454e-02 - val_crf_viterbi_accuracy: 0.9982\n",
      "Epoch 6/40\n",
      " - 751s - loss: -2.8425e-02 - crf_viterbi_accuracy: 0.9991 - val_loss: -2.9340e-02 - val_crf_viterbi_accuracy: 0.9983\n",
      "Epoch 7/40\n",
      " - 739s - loss: -3.5322e-02 - crf_viterbi_accuracy: 0.9993 - val_loss: -3.5450e-02 - val_crf_viterbi_accuracy: 0.9983\n",
      "Epoch 8/40\n",
      " - 729s - loss: -4.1924e-02 - crf_viterbi_accuracy: 0.9994 - val_loss: -4.1789e-02 - val_crf_viterbi_accuracy: 0.9984\n",
      "Epoch 9/40\n",
      " - 727s - loss: -4.8592e-02 - crf_viterbi_accuracy: 0.9995 - val_loss: -4.8391e-02 - val_crf_viterbi_accuracy: 0.9986\n",
      "Epoch 10/40\n",
      " - 730s - loss: -5.5156e-02 - crf_viterbi_accuracy: 0.9996 - val_loss: -5.3704e-02 - val_crf_viterbi_accuracy: 0.9982\n",
      "Epoch 11/40\n",
      " - 735s - loss: -6.1730e-02 - crf_viterbi_accuracy: 0.9997 - val_loss: -6.0181e-02 - val_crf_viterbi_accuracy: 0.9982\n",
      "Epoch 12/40\n",
      " - 726s - loss: -6.8216e-02 - crf_viterbi_accuracy: 0.9997 - val_loss: -6.6658e-02 - val_crf_viterbi_accuracy: 0.9984\n",
      "Epoch 13/40\n",
      " - 724s - loss: -7.4698e-02 - crf_viterbi_accuracy: 0.9997 - val_loss: -7.2063e-02 - val_crf_viterbi_accuracy: 0.9984\n",
      "Epoch 14/40\n",
      " - 723s - loss: -8.1125e-02 - crf_viterbi_accuracy: 0.9998 - val_loss: -7.8820e-02 - val_crf_viterbi_accuracy: 0.9985\n",
      "Epoch 15/40\n",
      " - 734s - loss: -8.7606e-02 - crf_viterbi_accuracy: 0.9998 - val_loss: -8.4534e-02 - val_crf_viterbi_accuracy: 0.9983\n",
      "Epoch 16/40\n",
      " - 717s - loss: -9.4003e-02 - crf_viterbi_accuracy: 0.9998 - val_loss: -8.9899e-02 - val_crf_viterbi_accuracy: 0.9981\n",
      "Epoch 17/40\n",
      " - 724s - loss: -1.0042e-01 - crf_viterbi_accuracy: 0.9999 - val_loss: -9.6218e-02 - val_crf_viterbi_accuracy: 0.9982\n",
      "Epoch 18/40\n",
      " - 724s - loss: -1.0687e-01 - crf_viterbi_accuracy: 0.9999 - val_loss: -1.0195e-01 - val_crf_viterbi_accuracy: 0.9982\n",
      "Epoch 19/40\n",
      " - 732s - loss: -1.1323e-01 - crf_viterbi_accuracy: 0.9999 - val_loss: -1.0885e-01 - val_crf_viterbi_accuracy: 0.9985\n",
      "Epoch 20/40\n",
      " - 725s - loss: -1.1963e-01 - crf_viterbi_accuracy: 0.9999 - val_loss: -1.1388e-01 - val_crf_viterbi_accuracy: 0.9982\n",
      "Epoch 21/40\n",
      " - 725s - loss: -1.2602e-01 - crf_viterbi_accuracy: 0.9999 - val_loss: -1.2043e-01 - val_crf_viterbi_accuracy: 0.9982\n",
      "Epoch 22/40\n",
      " - 725s - loss: -1.3242e-01 - crf_viterbi_accuracy: 0.9999 - val_loss: -1.2701e-01 - val_crf_viterbi_accuracy: 0.9984\n",
      "Epoch 23/40\n",
      " - 736s - loss: -1.3879e-01 - crf_viterbi_accuracy: 0.9999 - val_loss: -1.3211e-01 - val_crf_viterbi_accuracy: 0.9981\n",
      "Epoch 24/40\n",
      " - 725s - loss: -1.4516e-01 - crf_viterbi_accuracy: 0.9999 - val_loss: -1.3858e-01 - val_crf_viterbi_accuracy: 0.9983\n",
      "Epoch 25/40\n",
      " - 725s - loss: -1.5153e-01 - crf_viterbi_accuracy: 0.9999 - val_loss: -1.4298e-01 - val_crf_viterbi_accuracy: 0.9981\n",
      "Epoch 26/40\n",
      " - 726s - loss: -1.5791e-01 - crf_viterbi_accuracy: 0.9999 - val_loss: -1.4942e-01 - val_crf_viterbi_accuracy: 0.9982\n",
      "Epoch 27/40\n",
      " - 736s - loss: -1.6430e-01 - crf_viterbi_accuracy: 0.9999 - val_loss: -1.5540e-01 - val_crf_viterbi_accuracy: 0.9982\n",
      "Epoch 28/40\n",
      " - 681s - loss: -1.7067e-01 - crf_viterbi_accuracy: 0.9999 - val_loss: -1.6137e-01 - val_crf_viterbi_accuracy: 0.9982\n",
      "Epoch 29/40\n",
      " - 524s - loss: -1.7706e-01 - crf_viterbi_accuracy: 1.0000 - val_loss: -1.6857e-01 - val_crf_viterbi_accuracy: 0.9984\n",
      "Epoch 30/40\n",
      " - 501s - loss: -1.8344e-01 - crf_viterbi_accuracy: 1.0000 - val_loss: -1.7418e-01 - val_crf_viterbi_accuracy: 0.9983\n",
      "Epoch 31/40\n",
      " - 505s - loss: -1.8982e-01 - crf_viterbi_accuracy: 1.0000 - val_loss: -1.8026e-01 - val_crf_viterbi_accuracy: 0.9984\n",
      "Epoch 32/40\n",
      " - 510s - loss: -1.9619e-01 - crf_viterbi_accuracy: 1.0000 - val_loss: -1.8597e-01 - val_crf_viterbi_accuracy: 0.9983\n",
      "Epoch 33/40\n",
      " - 508s - loss: -2.0254e-01 - crf_viterbi_accuracy: 1.0000 - val_loss: -1.9165e-01 - val_crf_viterbi_accuracy: 0.9982\n",
      "Epoch 34/40\n",
      " - 509s - loss: -2.0894e-01 - crf_viterbi_accuracy: 1.0000 - val_loss: -1.9719e-01 - val_crf_viterbi_accuracy: 0.9982\n",
      "Epoch 35/40\n",
      " - 510s - loss: -2.1531e-01 - crf_viterbi_accuracy: 1.0000 - val_loss: -2.0383e-01 - val_crf_viterbi_accuracy: 0.9983\n",
      "Epoch 36/40\n",
      " - 496s - loss: -2.2167e-01 - crf_viterbi_accuracy: 1.0000 - val_loss: -2.0841e-01 - val_crf_viterbi_accuracy: 0.9980\n",
      "Epoch 37/40\n",
      " - 511s - loss: -2.2800e-01 - crf_viterbi_accuracy: 1.0000 - val_loss: -2.1541e-01 - val_crf_viterbi_accuracy: 0.9981\n",
      "Epoch 38/40\n",
      " - 509s - loss: -2.3441e-01 - crf_viterbi_accuracy: 1.0000 - val_loss: -2.2185e-01 - val_crf_viterbi_accuracy: 0.9982\n",
      "Epoch 39/40\n",
      " - 508s - loss: -2.4078e-01 - crf_viterbi_accuracy: 1.0000 - val_loss: -2.2689e-01 - val_crf_viterbi_accuracy: 0.9981\n",
      "Epoch 40/40\n",
      " - 507s - loss: -2.4713e-01 - crf_viterbi_accuracy: 1.0000 - val_loss: -2.3239e-01 - val_crf_viterbi_accuracy: 0.9980\n"
     ]
    }
   ],
   "source": [
    "history = model.fit(np.array(X_tr), np.array(y_tr), batch_size=32, epochs=40, validation_split=0.2, verbose=2)\n",
    "#          nb_epoch=20, verbose=2, validation_data=(np.array(X_val),np.array(y_val)), callbacks=[early_stop])"
   ]
  },
  {
   "cell_type": "code",
   "execution_count": 15,
   "metadata": {},
   "outputs": [
    {
     "data": {
      "image/png": "[encoded data removed]",
      "text/plain": [
       "<Figure size 360x360 with 1 Axes>"
      ]
     },
     "metadata": {},
     "output_type": "display_data"
    },
    {
     "data": {
      "image/png": "[encoded data removed]",
      "text/plain": [
       "<Figure size 360x360 with 1 Axes>"
      ]
     },
     "metadata": {},
     "output_type": "display_data"
    }
   ],
   "source": [
    "hist = pd.DataFrame(history.history)\n",
    "\n",
    "import matplotlib.pyplot as plt\n",
    "plt.style.use(\"ggplot\")\n",
    "plt.figure(figsize=(5,5))\n",
    "plt.plot(hist[\"crf_viterbi_accuracy\"])\n",
    "plt.plot(hist[\"val_crf_viterbi_accuracy\"])\n",
    "\n",
    "plt.figure(figsize=(5,5))\n",
    "plt.plot(hist[\"loss\"])\n",
    "plt.plot(hist[\"val_loss\"])\n",
    "plt.show()"
   ]
  },
  {
   "cell_type": "code",
   "execution_count": 16,
   "metadata": {},
   "outputs": [
    {
     "name": "stdout",
     "output_type": "stream",
     "text": [
      "6363/6363 [==============================] - 15s 2ms/step\n"
     ]
    }
   ],
   "source": [
    "#### Get the prediction on the test dataset\n",
    "\n",
    "test_pred=model.predict(X_te, verbose=1)\n",
    "#print(test_y_pred)\n",
    "#print(np.argmax(test_y_pred,axis=2))\n",
    "\n",
    "#K.clear_session()"
   ]
  },
  {
   "cell_type": "code",
   "execution_count": 17,
   "metadata": {},
   "outputs": [
    {
     "name": "stdout",
     "output_type": "stream",
     "text": [
      "F1-score: 96.0%\n",
      "             precision    recall  f1-score   support\n",
      "\n",
      "      STRAT     0.9059    0.9417    0.9234      1063\n",
      "       ROCK     0.9477    0.9712    0.9593      4998\n",
      "   LOCATION     0.9267    0.9732    0.9494      3843\n",
      "  TIMESCALE     0.9877    0.9982    0.9929       563\n",
      "    MINERAL     0.9754    0.9860    0.9807      4139\n",
      "ORE_DEPOSIT     0.8741    0.9713    0.9201       593\n",
      "\n",
      "avg / total     0.9456    0.9747    0.9598     15199\n",
      "\n"
     ]
    }
   ],
   "source": [
    "from seqeval.metrics import precision_score, recall_score, f1_score, classification_report\n",
    "\n",
    "idx2tag = {i: w for w, i in tag2idx.items()}\n",
    "\n",
    "def pred2label(pred):\n",
    "    out = []\n",
    "    for pred_i in pred:\n",
    "        out_i = []\n",
    "        for p in pred_i:\n",
    "            p_i = np.argmax(p)\n",
    "            out_i.append(idx2tag[p_i].replace(\"PAD\", \"O\"))\n",
    "        out.append(out_i)\n",
    "    return out\n",
    "    \n",
    "pred_labels = pred2label(test_pred)\n",
    "test_labels = pred2label(y_te)\n",
    "\n",
    "print(\"F1-score: {:.1%}\".format(f1_score(test_labels, pred_labels)))\n",
    "\n",
    "print(classification_report(test_labels, pred_labels, digits=4))"
   ]
  },
  {
   "cell_type": "code",
   "execution_count": 31,
   "metadata": {},
   "outputs": [],
   "source": [
    "from keras.models import load_model\n",
    "\n",
    "#model.load_weights('CNN_model.weights')\n",
    "#mCallBack = Callback()\n",
    "#model.fit(X_train, Y_train, batch_size=batch_size, nb_epoch=10, callbacks=[mCallBack])\n",
    "#model.save_weights('CNN_model.weights')\n",
    "\n",
    "model.save(r'/Users/majiga/Documents/wamex/data/wamex_model_CNN.h5')  # creates a HDF5 file 'my_model.h5'\n",
    "#del model  # deletes the existing model\n",
    "\n",
    "# returns a compiled model\n",
    "# identical to the previous one\n",
    "#model = load_model(r'/Users/majiga/Documents/wamex/datawamex_model.h5')"
   ]
  },
  {
   "cell_type": "code",
   "execution_count": 30,
   "metadata": {},
   "outputs": [],
   "source": [
    "def get_prediction(i):\n",
    "    sentence_tags = []\n",
    "    p = model.predict(np.array([X_te[i]]))\n",
    "    p = np.argmax(p, axis=-1)\n",
    "    true = np.argmax(y_te[i], -1)\n",
    "    #print(\"{:15}||{:12}||{}\".format(\"Word\", \"True\", \"Pred\"))\n",
    "    #print(40 * \"=\")\n",
    "    for w, t, pred in zip(X_te[i], true, p[0]):\n",
    "        if w != 0:\n",
    "            #print(\"{:15} {:12} {}\".format(words[w-1], tags[t], tags[pred]))\n",
    "            sentence_tags.append([words[w-1], tags[t], tags[pred]])\n",
    "    return sentence_tags"
   ]
  },
  {
   "cell_type": "code",
   "execution_count": 22,
   "metadata": {},
   "outputs": [
    {
     "name": "stdout",
     "output_type": "stream",
     "text": [
      "3501\n"
     ]
    }
   ],
   "source": [
    "result = []\n",
    "for i in range(0, len(test_pred)):\n",
    "    result.append(get_prediction(i))\n",
    "print(len(result))"
   ]
  },
  {
   "cell_type": "code",
   "execution_count": 23,
   "metadata": {
    "scrolled": true
   },
   "outputs": [
    {
     "data": {
      "text/plain": [
       "[['The', 'O', 'O'],\n",
       " ['radiometric', 'O', 'O'],\n",
       " ['data', 'O', 'O'],\n",
       " ['had', 'O', 'O'],\n",
       " ['the', 'O', 'O'],\n",
       " ['following', 'O', 'O'],\n",
       " ['processing', 'O', 'O'],\n",
       " ['methods', 'O', 'O'],\n",
       " ['applied', 'O', 'O'],\n",
       " ['.', 'O', 'O'],\n",
       " ['Webbprospect(Geoforce,2009', 'O', 'O'],\n",
       " ['Webbprospect(Geoforce,2009', 'O', 'O'],\n",
       " ['Webbprospect(Geoforce,2009', 'O', 'O'],\n",
       " ['Webbprospect(Geoforce,2009', 'O', 'O'],\n",
       " ['Webbprospect(Geoforce,2009', 'O', 'O'],\n",
       " ['Webbprospect(Geoforce,2009', 'O', 'O'],\n",
       " ['Webbprospect(Geoforce,2009', 'O', 'O'],\n",
       " ['Webbprospect(Geoforce,2009', 'O', 'O'],\n",
       " ['Webbprospect(Geoforce,2009', 'O', 'O'],\n",
       " ['Webbprospect(Geoforce,2009', 'O', 'O'],\n",
       " ['Webbprospect(Geoforce,2009', 'O', 'O'],\n",
       " ['Webbprospect(Geoforce,2009', 'O', 'O'],\n",
       " ['Webbprospect(Geoforce,2009', 'O', 'O'],\n",
       " ['Webbprospect(Geoforce,2009', 'O', 'O'],\n",
       " ['Webbprospect(Geoforce,2009', 'O', 'O'],\n",
       " ['Webbprospect(Geoforce,2009', 'O', 'O'],\n",
       " ['Webbprospect(Geoforce,2009', 'O', 'O'],\n",
       " ['Webbprospect(Geoforce,2009', 'O', 'O'],\n",
       " ['Webbprospect(Geoforce,2009', 'O', 'O'],\n",
       " ['Webbprospect(Geoforce,2009', 'O', 'O'],\n",
       " ['Webbprospect(Geoforce,2009', 'O', 'O'],\n",
       " ['Webbprospect(Geoforce,2009', 'O', 'O'],\n",
       " ['Webbprospect(Geoforce,2009', 'O', 'O'],\n",
       " ['Webbprospect(Geoforce,2009', 'O', 'O'],\n",
       " ['Webbprospect(Geoforce,2009', 'O', 'O'],\n",
       " ['Webbprospect(Geoforce,2009', 'O', 'O'],\n",
       " ['Webbprospect(Geoforce,2009', 'O', 'O'],\n",
       " ['Webbprospect(Geoforce,2009', 'O', 'O'],\n",
       " ['Webbprospect(Geoforce,2009', 'O', 'O'],\n",
       " ['Webbprospect(Geoforce,2009', 'O', 'O'],\n",
       " ['Webbprospect(Geoforce,2009', 'O', 'O'],\n",
       " ['Webbprospect(Geoforce,2009', 'O', 'O'],\n",
       " ['Webbprospect(Geoforce,2009', 'O', 'O'],\n",
       " ['Webbprospect(Geoforce,2009', 'O', 'O'],\n",
       " ['Webbprospect(Geoforce,2009', 'O', 'O'],\n",
       " ['Webbprospect(Geoforce,2009', 'O', 'O'],\n",
       " ['Webbprospect(Geoforce,2009', 'O', 'O'],\n",
       " ['Webbprospect(Geoforce,2009', 'O', 'O'],\n",
       " ['Webbprospect(Geoforce,2009', 'O', 'O'],\n",
       " ['Webbprospect(Geoforce,2009', 'O', 'O'],\n",
       " ['Webbprospect(Geoforce,2009', 'O', 'O'],\n",
       " ['Webbprospect(Geoforce,2009', 'O', 'O'],\n",
       " ['Webbprospect(Geoforce,2009', 'O', 'O'],\n",
       " ['Webbprospect(Geoforce,2009', 'O', 'O'],\n",
       " ['Webbprospect(Geoforce,2009', 'O', 'O'],\n",
       " ['Webbprospect(Geoforce,2009', 'O', 'O'],\n",
       " ['Webbprospect(Geoforce,2009', 'O', 'O'],\n",
       " ['Webbprospect(Geoforce,2009', 'O', 'O'],\n",
       " ['Webbprospect(Geoforce,2009', 'O', 'O'],\n",
       " ['Webbprospect(Geoforce,2009', 'O', 'O'],\n",
       " ['Webbprospect(Geoforce,2009', 'O', 'O'],\n",
       " ['Webbprospect(Geoforce,2009', 'O', 'O'],\n",
       " ['Webbprospect(Geoforce,2009', 'O', 'O'],\n",
       " ['Webbprospect(Geoforce,2009', 'O', 'O'],\n",
       " ['Webbprospect(Geoforce,2009', 'O', 'O'],\n",
       " ['Webbprospect(Geoforce,2009', 'O', 'O'],\n",
       " ['Webbprospect(Geoforce,2009', 'O', 'O'],\n",
       " ['Webbprospect(Geoforce,2009', 'O', 'O'],\n",
       " ['Webbprospect(Geoforce,2009', 'O', 'O'],\n",
       " ['Webbprospect(Geoforce,2009', 'O', 'O'],\n",
       " ['Webbprospect(Geoforce,2009', 'O', 'O'],\n",
       " ['Webbprospect(Geoforce,2009', 'O', 'O'],\n",
       " ['Webbprospect(Geoforce,2009', 'O', 'O'],\n",
       " ['Webbprospect(Geoforce,2009', 'O', 'O'],\n",
       " ['Webbprospect(Geoforce,2009', 'O', 'O'],\n",
       " ['Webbprospect(Geoforce,2009', 'O', 'O'],\n",
       " ['Webbprospect(Geoforce,2009', 'O', 'O'],\n",
       " ['Webbprospect(Geoforce,2009', 'O', 'O'],\n",
       " ['Webbprospect(Geoforce,2009', 'O', 'O'],\n",
       " ['Webbprospect(Geoforce,2009', 'O', 'O']]"
      ]
     },
     "execution_count": 23,
     "metadata": {},
     "output_type": "execute_result"
    }
   ],
   "source": [
    "result[10]"
   ]
  },
  {
   "cell_type": "code",
   "execution_count": 24,
   "metadata": {},
   "outputs": [
    {
     "name": "stdout",
     "output_type": "stream",
     "text": [
      "178\n"
     ]
    }
   ],
   "source": [
    "result_tag_found = []\n",
    "for r in result:\n",
    "    for w, t, p in r:\n",
    "        if t == \"O\" and t is not p:\n",
    "            result_tag_found.append(r)\n",
    "            break\n",
    "        if t is not \"O\" and p is not \"O\" and t is not p:\n",
    "            result_tag_found.append(r)\n",
    "            break\n",
    "print(len(result_tag_found))"
   ]
  },
  {
   "cell_type": "code",
   "execution_count": 25,
   "metadata": {
    "scrolled": true
   },
   "outputs": [
    {
     "data": {
      "text/plain": [
       "[['It', 'O', 'O'],\n",
       " ['was', 'O', 'O'],\n",
       " ['concluded', 'O', 'O'],\n",
       " ['that', 'O', 'O'],\n",
       " ['the', 'O', 'O'],\n",
       " ['calcretes', 'O', 'O'],\n",
       " ['deposits', 'B-GEO_TERM', 'B-GEO_TERM'],\n",
       " ['occurring', 'O', 'O'],\n",
       " ['within', 'O', 'O'],\n",
       " ['the', 'O', 'O'],\n",
       " ['tenement', 'O', 'O'],\n",
       " ['are', 'O', 'O'],\n",
       " ['geomorphologically', 'O', 'O'],\n",
       " ['similar', 'O', 'O'],\n",
       " ['to', 'O', 'O'],\n",
       " ['those', 'O', 'O'],\n",
       " ['that', 'O', 'O'],\n",
       " ['host', 'O', 'O'],\n",
       " ['uranium', 'B-COMMODITY', 'B-COMMODITY'],\n",
       " ['deposits', 'B-GEO_TERM', 'B-GEO_TERM'],\n",
       " ['elsewhere', 'O', 'O'],\n",
       " ['in', 'O', 'O'],\n",
       " ['the', 'O', 'O'],\n",
       " ['northern', 'O', 'O'],\n",
       " ['Yilgarn', 'O', 'B-WA_LOC'],\n",
       " ['region', 'O', 'O'],\n",
       " [',', 'O', 'O'],\n",
       " ['including', 'O', 'O'],\n",
       " ['Lake', 'O', 'O'],\n",
       " ['Austin', 'B-WA_LOC', 'B-WA_LOC'],\n",
       " ['and', 'O', 'O'],\n",
       " ['Lake', 'O', 'O'],\n",
       " ['Way', 'O', 'O'],\n",
       " ['and', 'O', 'O'],\n",
       " ['Lake', 'O', 'O'],\n",
       " ['Maitland', 'O', 'O'],\n",
       " ['.', 'O', 'O'],\n",
       " ['Webbprospect(Geoforce,2009', 'O', 'O'],\n",
       " ['Webbprospect(Geoforce,2009', 'O', 'O'],\n",
       " ['Webbprospect(Geoforce,2009', 'O', 'O'],\n",
       " ['Webbprospect(Geoforce,2009', 'O', 'O'],\n",
       " ['Webbprospect(Geoforce,2009', 'O', 'O'],\n",
       " ['Webbprospect(Geoforce,2009', 'O', 'O'],\n",
       " ['Webbprospect(Geoforce,2009', 'O', 'O'],\n",
       " ['Webbprospect(Geoforce,2009', 'O', 'O'],\n",
       " ['Webbprospect(Geoforce,2009', 'O', 'O'],\n",
       " ['Webbprospect(Geoforce,2009', 'O', 'O'],\n",
       " ['Webbprospect(Geoforce,2009', 'O', 'O'],\n",
       " ['Webbprospect(Geoforce,2009', 'O', 'O'],\n",
       " ['Webbprospect(Geoforce,2009', 'O', 'O'],\n",
       " ['Webbprospect(Geoforce,2009', 'O', 'O'],\n",
       " ['Webbprospect(Geoforce,2009', 'O', 'O'],\n",
       " ['Webbprospect(Geoforce,2009', 'O', 'O'],\n",
       " ['Webbprospect(Geoforce,2009', 'O', 'O'],\n",
       " ['Webbprospect(Geoforce,2009', 'O', 'O'],\n",
       " ['Webbprospect(Geoforce,2009', 'O', 'O'],\n",
       " ['Webbprospect(Geoforce,2009', 'O', 'O'],\n",
       " ['Webbprospect(Geoforce,2009', 'O', 'O'],\n",
       " ['Webbprospect(Geoforce,2009', 'O', 'O'],\n",
       " ['Webbprospect(Geoforce,2009', 'O', 'O'],\n",
       " ['Webbprospect(Geoforce,2009', 'O', 'O'],\n",
       " ['Webbprospect(Geoforce,2009', 'O', 'O'],\n",
       " ['Webbprospect(Geoforce,2009', 'O', 'O'],\n",
       " ['Webbprospect(Geoforce,2009', 'O', 'O'],\n",
       " ['Webbprospect(Geoforce,2009', 'O', 'O'],\n",
       " ['Webbprospect(Geoforce,2009', 'O', 'O'],\n",
       " ['Webbprospect(Geoforce,2009', 'O', 'O'],\n",
       " ['Webbprospect(Geoforce,2009', 'O', 'O'],\n",
       " ['Webbprospect(Geoforce,2009', 'O', 'O'],\n",
       " ['Webbprospect(Geoforce,2009', 'O', 'O'],\n",
       " ['Webbprospect(Geoforce,2009', 'O', 'O'],\n",
       " ['Webbprospect(Geoforce,2009', 'O', 'O'],\n",
       " ['Webbprospect(Geoforce,2009', 'O', 'O'],\n",
       " ['Webbprospect(Geoforce,2009', 'O', 'O'],\n",
       " ['Webbprospect(Geoforce,2009', 'O', 'O'],\n",
       " ['Webbprospect(Geoforce,2009', 'O', 'O'],\n",
       " ['Webbprospect(Geoforce,2009', 'O', 'O'],\n",
       " ['Webbprospect(Geoforce,2009', 'O', 'O'],\n",
       " ['Webbprospect(Geoforce,2009', 'O', 'O'],\n",
       " ['Webbprospect(Geoforce,2009', 'O', 'O']]"
      ]
     },
     "execution_count": 25,
     "metadata": {},
     "output_type": "execute_result"
    }
   ],
   "source": [
    "result_tag_found[0]"
   ]
  },
  {
   "cell_type": "code",
   "execution_count": 28,
   "metadata": {},
   "outputs": [
    {
     "name": "stdout",
     "output_type": "stream",
     "text": [
      "DONE\n"
     ]
    }
   ],
   "source": [
    "import csv\n",
    "\n",
    "out = csv.writer(open(r\"/Users/majiga/Documents/wamex/data/tagged_sentences_CNN.csv\",\"w\"), delimiter=',',quoting=csv.QUOTE_ALL)\n",
    "#out = csv.writer(open(r\"C:/wamex/data/tagged_sentences_CNN.csv\",\"w\", newline=''), delimiter=',',quoting=csv.QUOTE_ALL)\n",
    "out.writerow(['Word', 'DictionaryTag', \"PredictionTag\"])\n",
    "for r in result_tag_found:\n",
    "    for w, t, p in r:\n",
    "        out.writerow([w, t, p])\n",
    "        if w == \".\":\n",
    "            out.writerow('')\n",
    "            break\n",
    "\n",
    "#with open(r\"/Users/majiga/Documents/wamex/data/tagged_sentences.csv\", w) as f:\n",
    "print(\"DONE\")"
   ]
  },
  {
   "cell_type": "raw",
   "metadata": {},
   "source": [
    "####################### Run on the training set for prediction #####################\n",
    "\n",
    "train_pred = model.predict(X, verbose=2)\n",
    "\n",
    "train_pred_labels = pred2label(train_pred)\n",
    "train_labels = pred2label(y)\n"
   ]
  },
  {
   "cell_type": "raw",
   "metadata": {},
   "source": [
    "!pip install pydot\n",
    "#!pip install pydot-ng\n",
    "#!pip3 install graphviz"
   ]
  },
  {
   "cell_type": "raw",
   "metadata": {},
   "source": [
    "print(\"F1-score: {:.1%}\".format(f1_score(train_labels, train_pred_labels)))\n",
    "print(classification_report(train_labels, train_pred_labels, digits=4))"
   ]
  },
  {
   "cell_type": "raw",
   "metadata": {},
   "source": [
    "print(len(train_pred))\n",
    "print(len(train_pred_labels))\n",
    "\n",
    "def get_prediction(i):\n",
    "    sentence_tags = []\n",
    "    p = model.predict(np.array([X[i]]))\n",
    "    p = np.argmax(p, axis=-1)\n",
    "    true = np.argmax(y[i], -1)\n",
    "    #print(\"{:15}||{:12}||{}\".format(\"Word\", \"True\", \"Pred\"))\n",
    "    #print(40 * \"=\")\n",
    "    for w, t, pred in zip(X[i], true, p[0]):\n",
    "        if w != 0:\n",
    "            #print(\"{:15} {:12} {}\".format(words[w-1], tags[t], tags[pred]))\n",
    "            sentence_tags.append([words[w-1], tags[t], tags[pred]])\n",
    "    return sentence_tags\n",
    "\n",
    "result_train = []\n",
    "for i in range(0, len(train_pred)):\n",
    "    result_train.append(get_prediction(i))\n",
    "print(len(result_train))"
   ]
  },
  {
   "cell_type": "raw",
   "metadata": {},
   "source": [
    "result_train_tag_found = []\n",
    "for r in result_train:\n",
    "    for w, t, p in r:\n",
    "        if t == \"O\" and t is not p:\n",
    "            result_train_tag_found.append(r)\n",
    "            break\n",
    "        if t is not \"O\" and p is not \"O\" and t is not p:\n",
    "            result_train_tag_found.append(r)\n",
    "            break\n",
    "print(len(result_train_tag_found))"
   ]
  },
  {
   "cell_type": "raw",
   "metadata": {},
   "source": [
    "out_train = csv.writer(open(r\"/Users/majiga/Documents/wamex/data/tagged_sentences_train.csv\",\"w\"), delimiter=',',quoting=csv.QUOTE_ALL)\n",
    "out_train.writerow(['Word', 'DictionaryTag', \"PredictionTag\"])\n",
    "for r in result_train_tag_found:\n",
    "    for w, t, p in r:\n",
    "        out_train.writerow([w, t, p])\n",
    "        if w == \".\":\n",
    "            out_train.writerow('')\n",
    "            break\n",
    "print(\"Done\")"
   ]
  },
  {
   "cell_type": "raw",
   "metadata": {},
   "source": [
    "# Using the model with new data\n",
    "test_sentence = [\"Hawking\", \"was\", \"a\", \"Fellow\", \"of\", \"the\", \"Royal\", \"Society\", \",\", \"a\", \"lifetime\", \"member\",\n",
    "                 \"of\", \"the\", \"Pontifical\", \"Academy\", \"of\", \"Sciences\", \",\", \"and\", \"a\", \"recipient\", \"of\",\n",
    "                 \"the\", \"Presidential\", \"Medal\", \"of\", \"Freedom\", \",\", \"the\", \"highest\", \"civilian\", \"award\",\n",
    "                 \"in\", \"the\", \"United\", \"States\", \".\"]\n",
    "\n",
    "x_test_sent = pad_sequences(sequences=[[word2idx.get(w, 0) for w in test_sentence]],\n",
    "                            padding=\"post\", value=0, maxlen=max_len)\n",
    "\n",
    "p = model.predict(np.array([x_test_sent[0]]))\n",
    "p = np.argmax(p, axis=-1)\n",
    "print(\"{:15}||{}\".format(\"Word\", \"Prediction\"))\n",
    "print(30 * \"=\")\n",
    "for w, pred in zip(test_sentence, p[0]):\n",
    "    print(\"{:15} {:5}\".format(w, tags[pred]))"
   ]
  },
  {
   "cell_type": "code",
   "execution_count": null,
   "metadata": {},
   "outputs": [],
   "source": []
  },
  {
   "cell_type": "code",
   "execution_count": null,
   "metadata": {},
   "outputs": [],
   "source": []
  }
 ],
 "metadata": {
  "kernelspec": {
   "display_name": "Python 3",
   "language": "python",
   "name": "python3"
  },
  "language_info": {
   "codemirror_mode": {
    "name": "ipython",
    "version": 3
   },
   "file_extension": ".py",
   "mimetype": "text/x-python",
   "name": "python",
   "nbconvert_exporter": "python",
   "pygments_lexer": "ipython3",
   "version": "3.6.6"
  }
 },
 "nbformat": 4,
 "nbformat_minor": 2
}
