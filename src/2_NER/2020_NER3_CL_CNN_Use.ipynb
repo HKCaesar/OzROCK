{
 "cells": [
  {
   "cell_type": "markdown",
   "metadata": {},
   "source": [
    "# Sequence Tagging: Bidirectional LSTM + CNN\n",
    "\n",
    "Source: https://github.com/FanhuaandLuomu/BiLstm_CNN_CRF_CWS/blob/master/bilstm_cnn_crf.py"
   ]
  },
  {
   "cell_type": "code",
   "execution_count": 2,
   "metadata": {},
   "outputs": [
    {
     "name": "stdout",
     "output_type": "stream",
     "text": [
      "Num sentences =  31813\n",
      "Num words in training set =  24819\n"
     ]
    },
    {
     "data": {
      "image/png": "[encoded data removed]",
      "text/plain": [
       "<Figure size 432x288 with 1 Axes>"
      ]
     },
     "metadata": {},
     "output_type": "display_data"
    }
   ],
   "source": [
    "import glob, os, csv, sys\n",
    "import pandas as pd\n",
    "import numpy as np\n",
    "import matplotlib.pyplot as plt\n",
    "plt.style.use('ggplot')\n",
    "\n",
    "# AUTO-LABELLED DATA SET = TRAIN SET + VALIDATION SET\n",
    "filename = r\"../1-2 OzROCK/Files/OzROCK dataset/BIG_set_byDictionary.txt\"\n",
    "words = []\n",
    "tags = []\n",
    "sentences = []\n",
    "\n",
    "with open(filename, 'r') as file :\n",
    "    currSentence = []\n",
    "    lines = []\n",
    "    for line in file:\n",
    "        cols = line.split(\" \") # should be lower-case already\n",
    "        if line.strip() == '':\n",
    "            # Reset sentence            \n",
    "            sentences.append(currSentence)\n",
    "            currSentence = []\n",
    "        elif len(cols) > 2:\n",
    "            print(line)\n",
    "        else:\n",
    "            currSentence.append([cols[0].strip(), cols[1].strip()])\n",
    "            words.append(cols[0].strip())\n",
    "            tags.append(cols[1].strip())\n",
    "print('Num sentences = ', len(sentences)) # 18589; 160,343\n",
    "\n",
    "words = list(set(words))\n",
    "print('Num words in training set = ', len(words))\n",
    "\n",
    "train_sent_lengths = [len(s) for s in sentences]\n",
    "\n",
    "plt.hist(train_sent_lengths, density=1, bins=1000) # x value is bins\n",
    "plt.axis([0, 140, 0, 0.1])  # xmin,xmax,ymin,ymax\n",
    "plt.xlabel('Sentence Length')\n",
    "plt.ylabel('Percentage of sentences')\n",
    "\n",
    "plt.show()"
   ]
  },
  {
   "cell_type": "code",
   "execution_count": 3,
   "metadata": {
    "scrolled": true
   },
   "outputs": [
    {
     "name": "stdout",
     "output_type": "stream",
     "text": [
      "Number of unique words in this file:  24820\n",
      "Number of unique tags in this file:  13\n"
     ]
    }
   ],
   "source": [
    "words.append(\"ENDPAD\")\n",
    "n_words = len(words) # unique words per file\n",
    "print(\"Number of unique words in this file: \", n_words)\n",
    "\n",
    "tags = list(set(tags))\n",
    "n_tags = len(tags)\n",
    "print(\"Number of unique tags in this file: \", n_tags)"
   ]
  },
  {
   "cell_type": "code",
   "execution_count": 4,
   "metadata": {},
   "outputs": [
    {
     "name": "stdout",
     "output_type": "stream",
     "text": [
      "17258\n",
      "12\n"
     ]
    }
   ],
   "source": [
    "max_len = 100\n",
    "\n",
    "word2idx = {w: i + 1 for i, w in enumerate(words)}\n",
    "tag2idx = {t: i for i, t in enumerate(tags)}\n",
    "\n",
    "print(word2idx[\"gold\"]) # id=3818\n",
    "print(tag2idx[\"B-MINERAL\"]) # id = 9"
   ]
  },
  {
   "cell_type": "raw",
   "metadata": {},
   "source": [
    "#import tensorflow\n",
    "!python --version"
   ]
  },
  {
   "cell_type": "code",
   "execution_count": 5,
   "metadata": {},
   "outputs": [
    {
     "name": "stderr",
     "output_type": "stream",
     "text": [
      "Using TensorFlow backend.\n"
     ]
    }
   ],
   "source": [
    "# Map the senctences to a sequence of numbers and then pad the sequence\n",
    "# We increased the index of the words by one to use zero as a padding value, \n",
    "# because we want to use the mask_zero parameter of the embedding layer to ignore inputs with value zero\n",
    "\n",
    "from keras.preprocessing.sequence import pad_sequences\n",
    "\n",
    "X = [[word2idx[w[0]] for w in s] for s in sentences]\n",
    "\n",
    "# Pad the sentences\n",
    "#X_word = pad_sequences(maxlen=max_len, sequences=X_word, value=word2idx[\"PAD\"], padding='post', truncating='post')\n",
    "X = pad_sequences(maxlen=max_len, sequences=X, padding=\"post\", value=n_words-1)\n",
    "\n",
    "y = [[tag2idx[w[1]] for w in s] for s in sentences]\n",
    "y = pad_sequences(maxlen=max_len, sequences=y, padding=\"post\", value=tag2idx[\"O\"])"
   ]
  },
  {
   "cell_type": "code",
   "execution_count": 6,
   "metadata": {},
   "outputs": [
    {
     "name": "stdout",
     "output_type": "stream",
     "text": [
      "[  556 14791 11523  1266 22050 20068 15677  9482 16221 15031 12938  1395\n",
      " 24819 24819 24819 24819 24819 24819 24819 24819 24819 24819 24819 24819\n",
      " 24819 24819 24819 24819 24819 24819 24819 24819 24819 24819 24819 24819\n",
      " 24819 24819 24819 24819 24819 24819 24819 24819 24819 24819 24819 24819\n",
      " 24819 24819 24819 24819 24819 24819 24819 24819 24819 24819 24819 24819\n",
      " 24819 24819 24819 24819 24819 24819 24819 24819 24819 24819 24819 24819\n",
      " 24819 24819 24819 24819 24819 24819 24819 24819 24819 24819 24819 24819\n",
      " 24819 24819 24819 24819 24819 24819 24819 24819 24819 24819 24819 24819\n",
      " 24819 24819 24819 24819]\n",
      "[ 0  0  0 12 12  0  0  0  0  0  0  0  0  0  0  0  0  0  0  0  0  0  0  0\n",
      "  0  0  0  0  0  0  0  0  0  0  0  0  0  0  0  0  0  0  0  0  0  0  0  0\n",
      "  0  0  0  0  0  0  0  0  0  0  0  0  0  0  0  0  0  0  0  0  0  0  0  0\n",
      "  0  0  0  0  0  0  0  0  0  0  0  0  0  0  0  0  0  0  0  0  0  0  0  0\n",
      "  0  0  0  0]\n"
     ]
    }
   ],
   "source": [
    "words[0] = 'NaN'\n",
    "\n",
    "#words[:10]\n",
    "print(X[1])\n",
    "print(y[1])"
   ]
  },
  {
   "cell_type": "code",
   "execution_count": 7,
   "metadata": {
    "scrolled": true
   },
   "outputs": [
    {
     "name": "stdout",
     "output_type": "stream",
     "text": [
      "[  556 14791 11523  1266 22050 20068 15677  9482 16221 15031 12938  1395\n",
      " 24819 24819 24819 24819 24819 24819 24819 24819 24819 24819 24819 24819\n",
      " 24819 24819 24819 24819 24819 24819 24819 24819 24819 24819 24819 24819\n",
      " 24819 24819 24819 24819 24819 24819 24819 24819 24819 24819 24819 24819\n",
      " 24819 24819 24819 24819 24819 24819 24819 24819 24819 24819 24819 24819\n",
      " 24819 24819 24819 24819 24819 24819 24819 24819 24819 24819 24819 24819\n",
      " 24819 24819 24819 24819 24819 24819 24819 24819 24819 24819 24819 24819\n",
      " 24819 24819 24819 24819 24819 24819 24819 24819 24819 24819 24819 24819\n",
      " 24819 24819 24819 24819]\n",
      "[[1. 0. 0. ... 0. 0. 0.]\n",
      " [1. 0. 0. ... 0. 0. 0.]\n",
      " [1. 0. 0. ... 0. 0. 0.]\n",
      " ...\n",
      " [1. 0. 0. ... 0. 0. 0.]\n",
      " [1. 0. 0. ... 0. 0. 0.]\n",
      " [1. 0. 0. ... 0. 0. 0.]]\n"
     ]
    }
   ],
   "source": [
    "from keras.utils import to_categorical # Converts a class vector (integers) to binary class matrix.\n",
    "\n",
    "# Converts a class vector (integers) to binary class matrix (each class as a one-hot vector)\n",
    "y = [to_categorical(i, num_classes=n_tags) for i in y]\n",
    "\n",
    "print(X[1])\n",
    "print(y[1])"
   ]
  },
  {
   "cell_type": "code",
   "execution_count": 8,
   "metadata": {},
   "outputs": [],
   "source": [
    "# We split in train and test set.\n",
    "from sklearn.model_selection import train_test_split\n",
    "\n",
    "X_tr, X_te, y_tr, y_te = train_test_split(X, y, test_size=0.2)"
   ]
  },
  {
   "cell_type": "code",
   "execution_count": 9,
   "metadata": {},
   "outputs": [
    {
     "name": "stdout",
     "output_type": "stream",
     "text": [
      "(25450, 100)\n",
      "25450\n",
      "(6363, 100)\n",
      "6363\n"
     ]
    }
   ],
   "source": [
    "print(X_tr.shape)\n",
    "print(len(y_tr))\n",
    "print(X_te.shape)\n",
    "print(len(y_te))"
   ]
  },
  {
   "cell_type": "code",
   "execution_count": 10,
   "metadata": {
    "scrolled": true
   },
   "outputs": [
    {
     "name": "stdout",
     "output_type": "stream",
     "text": [
      "100\n"
     ]
    }
   ],
   "source": [
    "import string\n",
    "chars = [s for s in string.printable]\n",
    "n_chars = len(chars)\n",
    "print(n_chars)\n",
    "#chars"
   ]
  },
  {
   "cell_type": "raw",
   "metadata": {},
   "source": [
    "!pip install git+https://www.github.com/keras-team/keras-contrib.git"
   ]
  },
  {
   "cell_type": "code",
   "execution_count": 11,
   "metadata": {},
   "outputs": [],
   "source": [
    "import keras\n",
    "from keras.layers import *\n",
    "from keras.models import *\n",
    "from keras_contrib.layers import CRF\n",
    "\n",
    "#from keras import backend as K\n",
    "\n",
    "from keras.utils import plot_model\n",
    "from keras.utils import np_utils\n",
    "\n",
    "# input:\n",
    "# maxlen  char_value_dict_len  class_label_count\n",
    "def Bilstm_CNN_Crf(maxlen, char_value_dict_len, class_label_count):\n",
    "    \n",
    "    word_input = Input(shape=(maxlen,), dtype='int32', name='word_input')\n",
    "    \n",
    "    word_emb = Embedding(char_value_dict_len + 2, output_dim=64, input_length=maxlen, name='word_emb')(word_input)\n",
    "    \n",
    "    ### word emb - bilstm\n",
    "    bilstm = Bidirectional(LSTM(32, return_sequences=True))(word_emb)\n",
    "    bilstm_d = Dropout(0.1)(bilstm)\n",
    "\n",
    "    ### character emb - cnn\n",
    "    half_window_size=2\n",
    "    padding_layer=ZeroPadding1D(padding=half_window_size)(word_emb)\n",
    "    \n",
    "    conv=Conv1D(nb_filter=50, filter_length=2*half_window_size+1, padding='valid')(padding_layer)\n",
    "    conv_d=Dropout(0.1)(conv)\n",
    "    dense_conv=TimeDistributed(Dense(50))(conv_d)\n",
    "\n",
    "    #char_input = Input(shape=(maxCharSize * max_words,), dtype='int32', name='char_input')\n",
    "    #char_emb = Embedding(char_vocab_size, char_embedding_dim, input_length=max_words*maxCharSize, dropout=dropout, name='char_emb')(char_input)\n",
    "    #char_cnn = Convolution1D(nb_filter=nb_filters,filter_length= window_length, activation='tanh', border_mode='full') (char_emb) \n",
    "    #char_max_pooling = MaxPooling1D(pool_length=maxCharSize) (char_cnn) #  get output per word. this is the size of the hidden layer\n",
    "\n",
    "    ### MERGE \n",
    "    #rnn_cnn_merge = merge([bilstm_d,dense_conv],mode='concat',concat_axis=2)\n",
    "    #rnn_cnn_merge = concatenate([bilstm_d,dense_conv], axis = 2)\n",
    "    \n",
    "    #rnn_cnn_merge = merge([bilstm_d, dense_conv], mode='concat', concat_axis=2, name ='rnn_cnn_merge')\n",
    "    #emb_droput = Dropout(dropout)(total_emb)\n",
    "    \n",
    "    ##### ????????????\n",
    "    #dense=TimeDistributed(Dense(class_label_count))(rnn_cnn_merge)\n",
    "    dense = TimeDistributed(Dense(class_label_count))(dense_conv) # 14 classes or half of rnn_cnn_merge = 57\n",
    "\n",
    "    #dense = TimeDistributed(Dense(50, activation=\"relu\"))(rnn_cnn_merge)  # a dense layer as suggested by neuralNer\n",
    "\n",
    "    ### CRF\n",
    "    crf = CRF(class_label_count, sparse_target=False)\n",
    "    #crf = CRF(class_label_count)  # CRF layer\n",
    "    crf_output = crf(dense)  # output\n",
    "    \n",
    "    # build model\n",
    "    model = Model(input = [word_input], output = [crf_output])\n",
    "    #model = Model(input = word_input, output = crf_output)\n",
    "\n",
    "    model.compile(loss=crf.loss_function, optimizer='adam', metrics=[crf.accuracy]) # optimizer=\"rmsprop\"\n",
    "\n",
    "    #model.summary()\n",
    "    return model"
   ]
  },
  {
   "cell_type": "raw",
   "metadata": {},
   "source": [
    "#!pip install pydot\n",
    "#!pip install pydotplus\n",
    "!pip install graphviz"
   ]
  },
  {
   "cell_type": "code",
   "execution_count": 12,
   "metadata": {},
   "outputs": [
    {
     "name": "stdout",
     "output_type": "stream",
     "text": [
      "100 100 13\n"
     ]
    },
    {
     "name": "stderr",
     "output_type": "stream",
     "text": [
      "/Users/majiga/anaconda3/lib/python3.6/site-packages/ipykernel_launcher.py:27: UserWarning: Update your `Conv1D` call to the Keras 2 API: `Conv1D(padding=\"valid\", filters=50, kernel_size=5)`\n",
      "/Users/majiga/anaconda3/lib/python3.6/site-packages/ipykernel_launcher.py:55: UserWarning: Update your `Model` call to the Keras 2 API: `Model(inputs=[<tf.Tenso..., outputs=[<tf.Tenso...)`\n",
      "/Users/majiga/anaconda3/lib/python3.6/site-packages/keras_contrib/layers/crf.py:346: UserWarning: CRF.loss_function is deprecated and it might be removed in the future. Please use losses.crf_loss instead.\n",
      "  warnings.warn('CRF.loss_function is deprecated '\n",
      "/Users/majiga/anaconda3/lib/python3.6/site-packages/keras_contrib/layers/crf.py:353: UserWarning: CRF.accuracy is deprecated and it might be removed in the future. Please use metrics.crf_accuracy\n",
      "  warnings.warn('CRF.accuracy is deprecated and it '\n"
     ]
    },
    {
     "name": "stdout",
     "output_type": "stream",
     "text": [
      "(None, 100)\n",
      "(None, 100, 13)\n",
      "Model: \"model_1\"\n",
      "_________________________________________________________________\n",
      "Layer (type)                 Output Shape              Param #   \n",
      "=================================================================\n",
      "word_input (InputLayer)      (None, 100)               0         \n",
      "_________________________________________________________________\n",
      "word_emb (Embedding)         (None, 100, 64)           1588608   \n",
      "_________________________________________________________________\n",
      "zero_padding1d_1 (ZeroPaddin (None, 104, 64)           0         \n",
      "_________________________________________________________________\n",
      "conv1d_1 (Conv1D)            (None, 100, 50)           16050     \n",
      "_________________________________________________________________\n",
      "dropout_2 (Dropout)          (None, 100, 50)           0         \n",
      "_________________________________________________________________\n",
      "time_distributed_1 (TimeDist (None, 100, 50)           2550      \n",
      "_________________________________________________________________\n",
      "time_distributed_2 (TimeDist (None, 100, 13)           663       \n",
      "_________________________________________________________________\n",
      "crf_1 (CRF)                  (None, 100, 13)           377       \n",
      "=================================================================\n",
      "Total params: 1,608,248\n",
      "Trainable params: 1,608,248\n",
      "Non-trainable params: 0\n",
      "_________________________________________________________________\n"
     ]
    }
   ],
   "source": [
    "#maxlen,char_value_dict_len,class_label_count=100,1000,4\n",
    "#char_value_dict_len=100\n",
    "print(max_len, n_chars, n_tags)\n",
    "#model=Bilstm_CNN_Crf(max_len, n_chars, n_tags)\n",
    "model=Bilstm_CNN_Crf(max_len, n_words, n_tags)\n",
    "\n",
    "print(model.input_shape)\n",
    "print(model.output_shape)\n",
    "\n",
    "model.summary()\n",
    "#plot_model(model, to_file='cnn_model.png', show_shapes=True, show_layer_names=True)"
   ]
  },
  {
   "cell_type": "code",
   "execution_count": 13,
   "metadata": {
    "scrolled": true
   },
   "outputs": [
    {
     "name": "stdout",
     "output_type": "stream",
     "text": [
      "Train on 20360 samples, validate on 5090 samples\n",
      "Epoch 1/20\n",
      " - 84s - loss: 0.1012 - crf_viterbi_accuracy: 0.9841 - val_loss: 0.0225 - val_crf_viterbi_accuracy: 0.9961\n",
      "Epoch 2/20\n",
      " - 83s - loss: 0.0155 - crf_viterbi_accuracy: 0.9976 - val_loss: 0.0129 - val_crf_viterbi_accuracy: 0.9981\n",
      "Epoch 3/20\n",
      " - 4650s - loss: 0.0093 - crf_viterbi_accuracy: 0.9988 - val_loss: 0.0108 - val_crf_viterbi_accuracy: 0.9984\n",
      "Epoch 4/20\n",
      " - 84s - loss: 0.0064 - crf_viterbi_accuracy: 0.9992 - val_loss: 0.0088 - val_crf_viterbi_accuracy: 0.9984\n",
      "Epoch 5/20\n",
      " - 85s - loss: 0.0038 - crf_viterbi_accuracy: 0.9994 - val_loss: 0.0064 - val_crf_viterbi_accuracy: 0.9985\n",
      "Epoch 6/20\n",
      " - 84s - loss: 7.4142e-04 - crf_viterbi_accuracy: 0.9995 - val_loss: 0.0036 - val_crf_viterbi_accuracy: 0.9984\n",
      "Epoch 7/20\n",
      " - 85s - loss: -2.8985e-03 - crf_viterbi_accuracy: 0.9996 - val_loss: 2.1629e-04 - val_crf_viterbi_accuracy: 0.9984\n",
      "Epoch 8/20\n",
      " - 84s - loss: -7.1948e-03 - crf_viterbi_accuracy: 0.9996 - val_loss: -4.5783e-03 - val_crf_viterbi_accuracy: 0.9984\n",
      "Epoch 9/20\n",
      " - 84s - loss: -1.2231e-02 - crf_viterbi_accuracy: 0.9996 - val_loss: -9.3455e-03 - val_crf_viterbi_accuracy: 0.9983\n",
      "Epoch 10/20\n",
      " - 84s - loss: -1.7794e-02 - crf_viterbi_accuracy: 0.9997 - val_loss: -1.5172e-02 - val_crf_viterbi_accuracy: 0.9984\n",
      "Epoch 11/20\n",
      " - 85s - loss: -2.3638e-02 - crf_viterbi_accuracy: 0.9997 - val_loss: -2.0687e-02 - val_crf_viterbi_accuracy: 0.9984\n",
      "Epoch 12/20\n",
      " - 84s - loss: -2.9759e-02 - crf_viterbi_accuracy: 0.9997 - val_loss: -2.7043e-02 - val_crf_viterbi_accuracy: 0.9985\n",
      "Epoch 13/20\n",
      " - 85s - loss: -3.6013e-02 - crf_viterbi_accuracy: 0.9997 - val_loss: -3.2348e-02 - val_crf_viterbi_accuracy: 0.9982\n",
      "Epoch 14/20\n",
      " - 84s - loss: -4.2281e-02 - crf_viterbi_accuracy: 0.9997 - val_loss: -3.8969e-02 - val_crf_viterbi_accuracy: 0.9984\n",
      "Epoch 15/20\n",
      " - 84s - loss: -4.8611e-02 - crf_viterbi_accuracy: 0.9997 - val_loss: -4.5385e-02 - val_crf_viterbi_accuracy: 0.9984\n",
      "Epoch 16/20\n",
      " - 84s - loss: -5.5027e-02 - crf_viterbi_accuracy: 0.9997 - val_loss: -5.1317e-02 - val_crf_viterbi_accuracy: 0.9983\n",
      "Epoch 17/20\n",
      " - 84s - loss: -6.1382e-02 - crf_viterbi_accuracy: 0.9997 - val_loss: -5.7164e-02 - val_crf_viterbi_accuracy: 0.9982\n",
      "Epoch 18/20\n",
      " - 84s - loss: -6.7756e-02 - crf_viterbi_accuracy: 0.9997 - val_loss: -6.3645e-02 - val_crf_viterbi_accuracy: 0.9983\n",
      "Epoch 19/20\n",
      " - 84s - loss: -7.4114e-02 - crf_viterbi_accuracy: 0.9997 - val_loss: -6.9757e-02 - val_crf_viterbi_accuracy: 0.9984\n",
      "Epoch 20/20\n",
      " - 84s - loss: -8.0525e-02 - crf_viterbi_accuracy: 0.9998 - val_loss: -7.4686e-02 - val_crf_viterbi_accuracy: 0.9980\n"
     ]
    }
   ],
   "source": [
    "history = model.fit(np.array(X_tr), np.array(y_tr), batch_size=32, epochs=20, validation_split=0.2, verbose=2)\n",
    "#          nb_epoch=20, verbose=2, validation_data=(np.array(X_val),np.array(y_val)), callbacks=[early_stop])"
   ]
  },
  {
   "cell_type": "code",
   "execution_count": 14,
   "metadata": {},
   "outputs": [
    {
     "data": {
      "image/png": "[encoded data removed]",
      "text/plain": [
       "<Figure size 360x360 with 1 Axes>"
      ]
     },
     "metadata": {},
     "output_type": "display_data"
    },
    {
     "data": {
      "image/png": "[encoded data removed]",
      "text/plain": [
       "<Figure size 360x360 with 1 Axes>"
      ]
     },
     "metadata": {},
     "output_type": "display_data"
    }
   ],
   "source": [
    "hist = pd.DataFrame(history.history)\n",
    "\n",
    "import matplotlib.pyplot as plt\n",
    "plt.style.use(\"ggplot\")\n",
    "plt.figure(figsize=(5,5))\n",
    "plt.plot(hist[\"crf_viterbi_accuracy\"])\n",
    "plt.plot(hist[\"val_crf_viterbi_accuracy\"])\n",
    "\n",
    "plt.figure(figsize=(5,5))\n",
    "plt.plot(hist[\"loss\"])\n",
    "plt.plot(hist[\"val_loss\"])\n",
    "plt.show()"
   ]
  },
  {
   "cell_type": "code",
   "execution_count": 15,
   "metadata": {},
   "outputs": [
    {
     "name": "stdout",
     "output_type": "stream",
     "text": [
      "6363/6363 [==============================] - 11s 2ms/step\n"
     ]
    }
   ],
   "source": [
    "#### Get the prediction on the test dataset\n",
    "\n",
    "test_pred=model.predict(X_te, verbose=1)\n",
    "#print(test_y_pred)\n",
    "#print(np.argmax(test_y_pred,axis=2))\n",
    "\n",
    "#K.clear_session()"
   ]
  },
  {
   "cell_type": "code",
   "execution_count": 16,
   "metadata": {},
   "outputs": [
    {
     "name": "stdout",
     "output_type": "stream",
     "text": [
      "F1-score: 95.9%\n",
      "             precision    recall  f1-score   support\n",
      "\n",
      "    MINERAL     0.9706    0.9887    0.9795      4235\n",
      "       ROCK     0.9292    0.9649    0.9467      4869\n",
      "      STRAT     0.8996    0.9384    0.9186      1088\n",
      "  TIMESCALE     0.9948    0.9965    0.9957       579\n",
      "   LOCATION     0.9421    0.9774    0.9594      3896\n",
      "ORE_DEPOSIT     0.9347    0.9862    0.9598       581\n",
      "\n",
      "avg / total     0.9446    0.9748    0.9594     15248\n",
      "\n"
     ]
    }
   ],
   "source": [
    "from seqeval.metrics import precision_score, recall_score, f1_score, classification_report\n",
    "\n",
    "idx2tag = {i: w for w, i in tag2idx.items()}\n",
    "\n",
    "def pred2label(pred):\n",
    "    out = []\n",
    "    for pred_i in pred:\n",
    "        out_i = []\n",
    "        for p in pred_i:\n",
    "            p_i = np.argmax(p)\n",
    "            out_i.append(idx2tag[p_i].replace(\"PAD\", \"O\"))\n",
    "        out.append(out_i)\n",
    "    return out\n",
    "    \n",
    "pred_labels = pred2label(test_pred)\n",
    "test_labels = pred2label(y_te)\n",
    "\n",
    "print(\"F1-score: {:.1%}\".format(f1_score(test_labels, pred_labels)))\n",
    "\n",
    "print(classification_report(test_labels, pred_labels, digits=4))"
   ]
  },
  {
   "cell_type": "raw",
   "metadata": {},
   "source": [
    "from keras.models import load_model\n",
    "\n",
    "#model.load_weights('CNN_model.weights')\n",
    "#mCallBack = Callback()\n",
    "#model.fit(X_train, Y_train, batch_size=batch_size, nb_epoch=10, callbacks=[mCallBack])\n",
    "#model.save_weights('CNN_model.weights')\n",
    "\n",
    "model.save(r'/Users/majiga/Documents/wamex/data/wamex_model_cnn.h5')  # creates a HDF5 file 'my_model.h5'\n",
    "#del model  # deletes the existing model\n",
    "\n",
    "# returns a compiled model\n",
    "# identical to the previous one\n",
    "#model = load_model(r'/Users/majiga/Documents/wamex/datawamex_model.h5')"
   ]
  },
  {
   "cell_type": "code",
   "execution_count": null,
   "metadata": {},
   "outputs": [],
   "source": [
    "def get_prediction(i):\n",
    "    sentence_tags = []\n",
    "    p = model.predict(np.array([X_te[i]]))\n",
    "    p = np.argmax(p, axis=-1)\n",
    "    true = np.argmax(y_te[i], -1)\n",
    "    #print(\"{:15}||{:12}||{}\".format(\"Word\", \"True\", \"Pred\"))\n",
    "    #print(40 * \"=\")\n",
    "    for w, t, pred in zip(X_te[i], true, p[0]):\n",
    "        if w != 0:\n",
    "            #print(\"{:15} {:12} {}\".format(words[w-1], tags[t], tags[pred]))\n",
    "            sentence_tags.append([words[w-1], tags[t], tags[pred]])\n",
    "    return sentence_tags"
   ]
  },
  {
   "cell_type": "code",
   "execution_count": null,
   "metadata": {},
   "outputs": [],
   "source": [
    "result = []\n",
    "for i in range(0, len(test_pred)):\n",
    "    result.append(get_prediction(i))\n",
    "print(len(result))"
   ]
  },
  {
   "cell_type": "code",
   "execution_count": null,
   "metadata": {
    "scrolled": true
   },
   "outputs": [],
   "source": [
    "result[10]"
   ]
  },
  {
   "cell_type": "code",
   "execution_count": null,
   "metadata": {},
   "outputs": [],
   "source": [
    "result_tag_found = []\n",
    "for r in result:\n",
    "    for w, t, p in r:\n",
    "        if t == \"O\" and t is not p:\n",
    "            result_tag_found.append(r)\n",
    "            break\n",
    "        if t is not \"O\" and p is not \"O\" and t is not p:\n",
    "            result_tag_found.append(r)\n",
    "            break\n",
    "print(len(result_tag_found))"
   ]
  },
  {
   "cell_type": "code",
   "execution_count": null,
   "metadata": {
    "scrolled": true
   },
   "outputs": [],
   "source": [
    "result_tag_found[0]"
   ]
  },
  {
   "cell_type": "code",
   "execution_count": null,
   "metadata": {},
   "outputs": [],
   "source": [
    "import csv\n",
    "\n",
    "#out = csv.writer(open(r\"/Users/majiga/Documents/wamex/data/tagged_sentences_CNN.csv\",\"w\"), delimiter=',',quoting=csv.QUOTE_ALL)\n",
    "out = csv.writer(open(r\"C:/wamex/data/tagged_sentences_CNN.csv\",\"w\", newline=''), delimiter=',',quoting=csv.QUOTE_ALL)\n",
    "out.writerow(['Word', 'DictionaryTag', \"PredictionTag\"])\n",
    "for r in result_tag_found:\n",
    "    for w, t, p in r:\n",
    "        out.writerow([w, t, p])\n",
    "        if w == \".\":\n",
    "            out.writerow('')\n",
    "            break\n",
    "\n",
    "#with open(r\"/Users/majiga/Documents/wamex/data/tagged_sentences.csv\", w) as f:\n",
    "print(\"DONE\")"
   ]
  },
  {
   "cell_type": "raw",
   "metadata": {},
   "source": [
    "####################### Run on the training set for prediction #####################\n",
    "\n",
    "train_pred = model.predict(X, verbose=2)\n",
    "\n",
    "train_pred_labels = pred2label(train_pred)\n",
    "train_labels = pred2label(y)\n"
   ]
  },
  {
   "cell_type": "raw",
   "metadata": {},
   "source": [
    "!pip install pydot\n",
    "#!pip install pydot-ng\n",
    "#!pip3 install graphviz"
   ]
  },
  {
   "cell_type": "raw",
   "metadata": {},
   "source": [
    "print(\"F1-score: {:.1%}\".format(f1_score(train_labels, train_pred_labels)))\n",
    "print(classification_report(train_labels, train_pred_labels, digits=4))"
   ]
  },
  {
   "cell_type": "raw",
   "metadata": {},
   "source": [
    "print(len(train_pred))\n",
    "print(len(train_pred_labels))\n",
    "\n",
    "def get_prediction(i):\n",
    "    sentence_tags = []\n",
    "    p = model.predict(np.array([X[i]]))\n",
    "    p = np.argmax(p, axis=-1)\n",
    "    true = np.argmax(y[i], -1)\n",
    "    #print(\"{:15}||{:12}||{}\".format(\"Word\", \"True\", \"Pred\"))\n",
    "    #print(40 * \"=\")\n",
    "    for w, t, pred in zip(X[i], true, p[0]):\n",
    "        if w != 0:\n",
    "            #print(\"{:15} {:12} {}\".format(words[w-1], tags[t], tags[pred]))\n",
    "            sentence_tags.append([words[w-1], tags[t], tags[pred]])\n",
    "    return sentence_tags\n",
    "\n",
    "result_train = []\n",
    "for i in range(0, len(train_pred)):\n",
    "    result_train.append(get_prediction(i))\n",
    "print(len(result_train))"
   ]
  },
  {
   "cell_type": "raw",
   "metadata": {},
   "source": [
    "result_train_tag_found = []\n",
    "for r in result_train:\n",
    "    for w, t, p in r:\n",
    "        if t == \"O\" and t is not p:\n",
    "            result_train_tag_found.append(r)\n",
    "            break\n",
    "        if t is not \"O\" and p is not \"O\" and t is not p:\n",
    "            result_train_tag_found.append(r)\n",
    "            break\n",
    "print(len(result_train_tag_found))"
   ]
  },
  {
   "cell_type": "raw",
   "metadata": {},
   "source": [
    "out_train = csv.writer(open(r\"/Users/majiga/Documents/wamex/data/tagged_sentences_train.csv\",\"w\"), delimiter=',',quoting=csv.QUOTE_ALL)\n",
    "out_train.writerow(['Word', 'DictionaryTag', \"PredictionTag\"])\n",
    "for r in result_train_tag_found:\n",
    "    for w, t, p in r:\n",
    "        out_train.writerow([w, t, p])\n",
    "        if w == \".\":\n",
    "            out_train.writerow('')\n",
    "            break\n",
    "print(\"Done\")"
   ]
  },
  {
   "cell_type": "raw",
   "metadata": {},
   "source": [
    "# Using the model with new data\n",
    "test_sentence = [\"Hawking\", \"was\", \"a\", \"Fellow\", \"of\", \"the\", \"Royal\", \"Society\", \",\", \"a\", \"lifetime\", \"member\",\n",
    "                 \"of\", \"the\", \"Pontifical\", \"Academy\", \"of\", \"Sciences\", \",\", \"and\", \"a\", \"recipient\", \"of\",\n",
    "                 \"the\", \"Presidential\", \"Medal\", \"of\", \"Freedom\", \",\", \"the\", \"highest\", \"civilian\", \"award\",\n",
    "                 \"in\", \"the\", \"United\", \"States\", \".\"]\n",
    "\n",
    "x_test_sent = pad_sequences(sequences=[[word2idx.get(w, 0) for w in test_sentence]],\n",
    "                            padding=\"post\", value=0, maxlen=max_len)\n",
    "\n",
    "p = model.predict(np.array([x_test_sent[0]]))\n",
    "p = np.argmax(p, axis=-1)\n",
    "print(\"{:15}||{}\".format(\"Word\", \"Prediction\"))\n",
    "print(30 * \"=\")\n",
    "for w, pred in zip(test_sentence, p[0]):\n",
    "    print(\"{:15} {:5}\".format(w, tags[pred]))"
   ]
  },
  {
   "cell_type": "code",
   "execution_count": null,
   "metadata": {},
   "outputs": [],
   "source": []
  },
  {
   "cell_type": "code",
   "execution_count": null,
   "metadata": {},
   "outputs": [],
   "source": []
  }
 ],
 "metadata": {
  "kernelspec": {
   "display_name": "Python 3",
   "language": "python",
   "name": "python3"
  },
  "language_info": {
   "codemirror_mode": {
    "name": "ipython",
    "version": 3
   },
   "file_extension": ".py",
   "mimetype": "text/x-python",
   "name": "python",
   "nbconvert_exporter": "python",
   "pygments_lexer": "ipython3",
   "version": "3.6.6"
  }
 },
 "nbformat": 4,
 "nbformat_minor": 2
}
