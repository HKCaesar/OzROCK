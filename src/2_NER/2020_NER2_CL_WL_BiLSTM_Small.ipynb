{
 "cells": [
  {
   "cell_type": "markdown",
   "metadata": {},
   "source": [
    "## Bidirectional LSTM + Character-level-embedding + CRF\n",
    "\n",
    "### Running on the small size data to prepare the training dataset\n",
    "\n",
    "https://www.depends-on-the-definition.com/lstm-with-char-embeddings-for-ner/\n",
    "\n",
    "Enhancing sequence tagging: Bidirectional LSTMs With Character Embeddings For Named Entity Recognition"
   ]
  },
  {
   "cell_type": "code",
   "execution_count": 1,
   "metadata": {},
   "outputs": [
    {
     "name": "stdout",
     "output_type": "stream",
     "text": [
      "Num sentences =  31813\n",
      "Num words in training set =  24819\n"
     ]
    },
    {
     "data": {
      "text/plain": [
       "<Figure size 640x480 with 1 Axes>"
      ]
     },
     "metadata": {},
     "output_type": "display_data"
    }
   ],
   "source": [
    "import glob, os, csv, sys\n",
    "import pandas as pd\n",
    "import numpy as np\n",
    "import matplotlib.pyplot as plt\n",
    "plt.style.use('ggplot')\n",
    "\n",
    "# AUTO-LABELLED DATA SET = TRAIN SET + VALIDATION SET\n",
    "filename = r\"../1-2 OzROCK/Files/OzROCK dataset/BIG_set_byDictionary.txt\"\n",
    "\n",
    "#filename = r\"C:\\Users\\20230326\\wamex\\data\\OzROCK_Labeled_Geological_Dataset.txt\"  # 480 files\n",
    "#data = pd.read_csv(filename, header = None, delimiter=\" \", na_values=['\\n'], quoting=csv.QUOTE_NONE, encoding='latin1', skip_blank_lines=True)\n",
    "#print(data.info())\n",
    "#print(data.head(10))\n",
    "\n",
    "#data = dataframes.where((pd.notnull(dataframes)), None)\n",
    "#data = data.fillna('')\n",
    "#data = data.replace(np.nan, '', regex=True)\n",
    "\n",
    "words = []\n",
    "tags = []\n",
    "train_sentences = []\n",
    "\n",
    "with open(filename, 'r') as file :\n",
    "    currSentence = []\n",
    "    lines = []\n",
    "    for line in file:\n",
    "        cols = line.split(\" \") # should be lower-case already\n",
    "        if line.strip() == '':\n",
    "            # Reset sentence            \n",
    "            train_sentences.append(currSentence)\n",
    "            currSentence = []\n",
    "        elif len(cols) > 2:\n",
    "            print(line)\n",
    "        else:\n",
    "            currSentence.append([cols[0].strip(), cols[1].strip()])\n",
    "            words.append(cols[0].strip())\n",
    "            tags.append(cols[1].strip())\n",
    "print('Num sentences = ', len(train_sentences)) # 18589; 160,343\n",
    "\n",
    "train_words = list(set(words))\n",
    "print('Num words in training set = ', len(train_words))\n",
    "\n",
    "train_sent_lengths = [len(s) for s in train_sentences]\n",
    "\n",
    "plt.hist(train_sent_lengths, density=1, bins=1000) # x value is bins\n",
    "plt.axis([0, 140, 0, 0.1])  # xmin,xmax,ymin,ymax\n",
    "plt.xlabel('Sentence Length')\n",
    "plt.ylabel('Percentage of sentences')\n",
    "\n",
    "plt.show()"
   ]
  },
  {
   "cell_type": "raw",
   "metadata": {},
   "source": [
    "train_sentences[0:10]"
   ]
  },
  {
   "cell_type": "code",
   "execution_count": 2,
   "metadata": {
    "scrolled": true
   },
   "outputs": [
    {
     "name": "stdout",
     "output_type": "stream",
     "text": [
      "Num lines =  53295\n",
      "Num test_sentences =  2000\n",
      "Num test_words =  4910\n",
      "13\n"
     ]
    },
    {
     "data": {
      "image/png": "[encoded data removed]",
      "text/plain": [
       "<Figure size 432x288 with 1 Axes>"
      ]
     },
     "metadata": {
      "needs_background": "light"
     },
     "output_type": "display_data"
    }
   ],
   "source": [
    "# TEST DATA - manually annotated\n",
    "file_in = r\"../1-2 OzROCK/Files/OzROCK dataset/EvaluationSet_annotated_by_doman_experts.txt\" # TestSet_March02\n",
    "filename_result = r\"../1-2 OzROCK/Files/OzROCK dataset/EvaluationSet_trueTag_modelTag_CL_WL.txt\" # Evaluation set (expert-annotated) (predicted)\n",
    "\n",
    "#test_data = pd.read_csv(filename, header = None, delimiter=\" \", na_values=['\\n'], quoting=csv.QUOTE_NONE, encoding='latin1', skip_blank_lines=True)\n",
    "#print(test_data.info())\n",
    "#print(test_data.head(10))\n",
    "test_words = []\n",
    "test_sentences = []\n",
    "c = 0\n",
    "with open(file_in, 'r') as file :\n",
    "    currSentence = []\n",
    "    lines = []\n",
    "    file.readline()\n",
    "    for line in file:\n",
    "        try:\n",
    "            c += 1\n",
    "            cols = line.strip().split(\" \")\n",
    "            if line.strip() == '':\n",
    "                # Reset sentence            \n",
    "                test_sentences.append(currSentence)\n",
    "                currSentence = []\n",
    "            elif len(cols) > 2:\n",
    "                print('more than 2 columns: ', line)\n",
    "            else :\n",
    "                currSentence.append([cols[0].lower().strip(), cols[1].strip()])            \n",
    "                test_words.append(cols[0].lower().strip())\n",
    "        except:\n",
    "            print('error: ', c, line)\n",
    "\n",
    "test_words = list(set(test_words))\n",
    "print('Num lines = ', c)\n",
    "print('Num test_sentences = ', len(test_sentences)) # 18589; 160,343\n",
    "print('Num test_words = ', len(test_words))\n",
    "\"\"\"\n",
    "with open(file_in, 'r') as f:\n",
    "    test_sentences = f.readlines()\n",
    "    test_sentences = [x.strip() for x in test_sentences]\n",
    "print('Num sentences = ', len(test_sentences))\n",
    "print(test_sentences[0])\n",
    "\n",
    "for s in test_sentences:\n",
    "    for w in s.split():\n",
    "        test_words.append(w.strip())\n",
    "\"\"\"\n",
    "#words = list(set(test_words + train_words))\n",
    "#print('Num words in training + test sets = ', len(set(train_words)), len(set(test_words)), len(words))\n",
    "\n",
    "test_sent_lengths = [len(s) for s in test_sentences]\n",
    "print(test_sent_lengths[0])\n",
    "\n",
    "plt.hist(test_sent_lengths, density=1, bins=1000) # x value is bins\n",
    "plt.axis([0, 140, 0, 0.1])  # xmin,xmax,ymin,ymax\n",
    "plt.xlabel('Sentence Length')\n",
    "plt.ylabel('Percentage of sentences')\n",
    "\n",
    "plt.show()"
   ]
  },
  {
   "cell_type": "raw",
   "metadata": {},
   "source": [
    "test_sentences[0:5]"
   ]
  },
  {
   "cell_type": "code",
   "execution_count": 3,
   "metadata": {},
   "outputs": [
    {
     "name": "stdout",
     "output_type": "stream",
     "text": [
      "Number of unique words in all data:  25391\n",
      "\n",
      "Number of unique tags:  13\n",
      "['B-LOCATION', 'B-ROCK', 'I-ROCK', 'I-STRAT', 'B-TIMESCALE', 'B-ORE_DEPOSIT', 'I-MINERAL', 'I-TIMESCALE', 'O', 'I-ORE_DEPOSIT', 'I-LOCATION', 'B-STRAT', 'B-MINERAL']\n",
      "25391\n",
      "['rests', 'pixel', '13:08:06', '3165', 'miss', 'rig', '43,090', 'carbonatechlorite', 'dimensionsofthepipetotheeast', 'sheppard,1999']\n"
     ]
    }
   ],
   "source": [
    "# Word dictionary\n",
    "words = train_words + test_words\n",
    "words = list(set(words))\n",
    "words.append(\"ENDPAD\")\n",
    "\n",
    "n_words = len(words) # unique words\n",
    "print(\"Number of unique words in all data: \", n_words)\n",
    "\n",
    "tags = list(set(tags))\n",
    "n_tags = len(tags)\n",
    "print(\"\\nNumber of unique tags: \", n_tags)\n",
    "print(tags)\n",
    "\n",
    "print(len(words))\n",
    "print(words[:10])"
   ]
  },
  {
   "cell_type": "markdown",
   "metadata": {},
   "source": [
    "To encode the character-level information, we will use character embeddings and a LSTM to encode every word to an vector.\n",
    "We can use basically everything that produces a single vector for a sequence of characters that represent a word. You can also use a max-pooling architecture or a CNN or whatever works.\n",
    "Then we feed the vector to another LSTM together with the learned word embedding."
   ]
  },
  {
   "cell_type": "code",
   "execution_count": 4,
   "metadata": {},
   "outputs": [
    {
     "name": "stdout",
     "output_type": "stream",
     "text": [
      "9068\n",
      "2\n"
     ]
    }
   ],
   "source": [
    "# Create dictionaries of words and tags.\n",
    "word2idx = {w: i + 4 for i, w in enumerate(words)}\n",
    "word2idx[\"UNK\"] = 1\n",
    "word2idx[\"PAD\"] = 0\n",
    "word2idx[\"null\"] = 2\n",
    "word2idx[\"nan\"] = 3\n",
    "\n",
    "idx2word = {i: w for w, i in word2idx.items()}\n",
    "tag2idx = {t: i + 1 for i, t in enumerate(tags)}\n",
    "tag2idx[\"PAD\"] = 0\n",
    "idx2tag = {i: w for w, i in tag2idx.items()}\n",
    "\n",
    "print(word2idx[\"gold\"]) # id=3818\n",
    "print(tag2idx[\"B-ROCK\"]) # id = 9"
   ]
  },
  {
   "cell_type": "code",
   "execution_count": 5,
   "metadata": {},
   "outputs": [
    {
     "name": "stdout",
     "output_type": "stream",
     "text": [
      "2\n"
     ]
    }
   ],
   "source": [
    "print(word2idx[\"null\"]) # id=3818"
   ]
  },
  {
   "cell_type": "code",
   "execution_count": 6,
   "metadata": {},
   "outputs": [
    {
     "name": "stdout",
     "output_type": "stream",
     "text": [
      "Num words =  25395\n"
     ]
    }
   ],
   "source": [
    "max_len = 100 # length of each sentence\n",
    "\n",
    "#print(sentences[1])\n",
    "print('Num words = ', len(word2idx))\n",
    "\n",
    "X_word = [[word2idx[w[0]] for w in s] for s in train_sentences]\n",
    "#X_word = []\n",
    "#for s in sentences:\n",
    "#    for w in s:\n",
    "#        try:\n",
    "#            a = [word2idx[w[0]] for w in s]\n",
    "#            X_word.append(a)\n",
    "#        except KeyError as err:\n",
    "#            print('\\nException: ', sys.exc_info()[0], err, '\\n',\n",
    "#                  s, '\\n', w, a)\n",
    "#print(X_word[0:10])"
   ]
  },
  {
   "cell_type": "code",
   "execution_count": 7,
   "metadata": {},
   "outputs": [
    {
     "name": "stderr",
     "output_type": "stream",
     "text": [
      "Using TensorFlow backend.\n"
     ]
    }
   ],
   "source": [
    "# Map the senctences to a sequence of numbers and then pad the sequence\n",
    "# we increased the index of the words by one to use zero as a padding value.\n",
    "# This is done because we want to use the mask_zeor parameter of the embedding layer to ignore inputs with value zero\n",
    "from keras.preprocessing.sequence import pad_sequences\n",
    "\n",
    "# Pad the sentences\n",
    "X_word = pad_sequences(maxlen=max_len, sequences=X_word, value=word2idx[\"PAD\"], padding='post', truncating='post')"
   ]
  },
  {
   "cell_type": "code",
   "execution_count": 8,
   "metadata": {},
   "outputs": [
    {
     "name": "stdout",
     "output_type": "stream",
     "text": [
      "rests\n"
     ]
    },
    {
     "data": {
      "text/plain": [
       "['rests',\n",
       " 'pixel',\n",
       " '13:08:06',\n",
       " '3165',\n",
       " 'miss',\n",
       " 'rig',\n",
       " '43,090',\n",
       " 'carbonatechlorite',\n",
       " 'dimensionsofthepipetotheeast',\n",
       " 'sheppard,1999']"
      ]
     },
     "execution_count": 8,
     "metadata": {},
     "output_type": "execute_result"
    }
   ],
   "source": [
    "print(words[0])\n",
    "#words[0] = 'NaN'\n",
    "words[:10]"
   ]
  },
  {
   "cell_type": "raw",
   "metadata": {},
   "source": [
    "word_values = []\n",
    "for w in words:\n",
    "    print(w)\n",
    "    if type(w) == str:\n",
    "        word_values.append(w)\n",
    "\n",
    "print(len(word_values))\n",
    "chars = set([w_i for w in word_values for w_i in w])\n",
    "n_chars = len(chars)\n",
    "print(n_chars)\n",
    "print(chars)"
   ]
  },
  {
   "cell_type": "code",
   "execution_count": 9,
   "metadata": {},
   "outputs": [
    {
     "name": "stdout",
     "output_type": "stream",
     "text": [
      "30\n",
      "100\n"
     ]
    }
   ],
   "source": [
    "# Generate a dictionary for the characters we want to use and create the sequence of characters for every token,\n",
    "# set to 10.\n",
    "# We could also use longer or shorter sequences. \n",
    "# We could even use two sequences, one with the five first characters and one with the five last chars\n",
    "max_len_char = 30 # character length\n",
    "print(max_len_char)\n",
    "\n",
    "# tags = list(set(data[\"Tag\"].values))\n",
    "#chars = set([w_i for w in words for w_i in w])\n",
    "#n_chars = len(chars)\n",
    "#print(n_chars)\n",
    "#print(chars)\n",
    "\n",
    "import string\n",
    "chars = [s for s in string.printable]\n",
    "n_chars = len(chars)\n",
    "print(n_chars)"
   ]
  },
  {
   "cell_type": "code",
   "execution_count": 10,
   "metadata": {},
   "outputs": [
    {
     "data": {
      "text/plain": [
       "102"
      ]
     },
     "execution_count": 10,
     "metadata": {},
     "output_type": "execute_result"
    }
   ],
   "source": [
    "char2idx = {c: i + 2 for i, c in enumerate(chars)}\n",
    "char2idx[\"PAD\"] = 0\n",
    "char2idx[\"UNK\"] = 1\n",
    "len(char2idx)"
   ]
  },
  {
   "cell_type": "code",
   "execution_count": 11,
   "metadata": {},
   "outputs": [],
   "source": [
    "X_char = []\n",
    "for sentence in train_sentences:\n",
    "    sent_seq = []\n",
    "    for i in range(max_len):\n",
    "        word_seq = []\n",
    "        for j in range(max_len_char):\n",
    "            try:\n",
    "                word_seq.append(char2idx.get(sentence[i][0][j]))\n",
    "            except:\n",
    "                word_seq.append(char2idx.get(\"PAD\"))\n",
    "        sent_seq.append(word_seq)\n",
    "    X_char.append(np.array(sent_seq))"
   ]
  },
  {
   "cell_type": "code",
   "execution_count": 12,
   "metadata": {},
   "outputs": [
    {
     "name": "stdout",
     "output_type": "stream",
     "text": [
      "[9, 1, 9, 9, 9, 9, 9, 9, 2, 3, 3, 9, 9, 2, 3, 9, 9, 9, 2, 3, 9]\n",
      "[9 1 9 9 9 9 9 9 2 3 3 9 9 2 3 9 9 9 2 3 9 0 0 0 0 0 0 0 0 0 0 0 0 0 0 0 0\n",
      " 0 0 0 0 0 0 0 0 0 0 0 0 0 0 0 0 0 0 0 0 0 0 0 0 0 0 0 0 0 0 0 0 0 0 0 0 0\n",
      " 0 0 0 0 0 0 0 0 0 0 0 0 0 0 0 0 0 0 0 0 0 0 0 0 0 0]\n"
     ]
    }
   ],
   "source": [
    "# Map tags to a sequence numbers and the pad\n",
    "y = [[tag2idx[w[1]] for w in s] for s in train_sentences]\n",
    "print(y[0])\n",
    "\n",
    "y = pad_sequences(maxlen=max_len, sequences=y, value=tag2idx[\"PAD\"], padding='post', truncating='post')\n",
    "print(y[0])"
   ]
  },
  {
   "cell_type": "raw",
   "metadata": {},
   "source": [
    "print(len(X_char[5]))\n",
    "print(X_char[5].shape)\n",
    "print(X_char[5][:2])"
   ]
  },
  {
   "cell_type": "code",
   "execution_count": 13,
   "metadata": {},
   "outputs": [],
   "source": [
    "# We split in train and test set.\n",
    "from sklearn.model_selection import train_test_split\n",
    "\n",
    "X_word_tr, X_word_te, y_tr, y_te = train_test_split(X_word, y, test_size=0.2, random_state=30)\n",
    "X_char_tr, X_char_te, _, _ = train_test_split(X_char, y, test_size=0.2, random_state=30)"
   ]
  },
  {
   "cell_type": "code",
   "execution_count": 14,
   "metadata": {},
   "outputs": [
    {
     "name": "stdout",
     "output_type": "stream",
     "text": [
      "(25450, 100)\n",
      "(6363, 100)\n",
      "25450\n",
      "6363\n",
      "25450\n",
      "6363\n"
     ]
    }
   ],
   "source": [
    "print(X_word_tr.shape)\n",
    "print(X_word_te.shape)\n",
    "\n",
    "print(len(X_char_tr))\n",
    "print(len(X_char_te))\n",
    "\n",
    "print(len(y_tr))\n",
    "print(len(y_te))"
   ]
  },
  {
   "cell_type": "markdown",
   "metadata": {},
   "source": [
    "Define the character embedding model\n",
    "Trick is to wrap the parts that should be applied to the characters in a TimeDistributed layer to apply the same layers to every character sequence."
   ]
  },
  {
   "cell_type": "code",
   "execution_count": 15,
   "metadata": {},
   "outputs": [],
   "source": [
    "from keras.models import Model, Input\n",
    "from keras.layers import LSTM, Embedding, Dense, TimeDistributed, Dropout, Conv1D\n",
    "from keras.layers import Bidirectional, concatenate, SpatialDropout1D, GlobalMaxPooling1D\n",
    "from keras.utils import plot_model\n",
    "from keras.utils.np_utils import to_categorical\n",
    "\n",
    "# input and embedding for words\n",
    "word_in = Input(shape=(max_len,))\n",
    "emb_word = Embedding(input_dim=n_words + 4, output_dim=64, input_length=max_len, mask_zero=True)(word_in)\n",
    "\n",
    "# input and embeddings for characters\n",
    "char_in = Input(shape=(max_len, max_len_char,))\n",
    "emb_char = TimeDistributed(Embedding(input_dim=n_chars + 2, output_dim=30, input_length=max_len_char, mask_zero=True))(char_in)\n",
    "\n",
    "# character LSTM to get word encodings by characters\n",
    "char_enc = TimeDistributed(LSTM(units=100, return_sequences=False, recurrent_dropout=0.5))(emb_char)\n",
    "\n",
    "# main LSTM\n",
    "x = concatenate([emb_word, char_enc])\n",
    "x = SpatialDropout1D(0.3)(x)\n",
    "\n",
    "main_lstm = Bidirectional(LSTM(units=100, return_sequences=True, recurrent_dropout=0.5))(x)\n",
    "\n",
    "main_dense = TimeDistributed(Dense(100, activation=\"relu\"))(main_lstm)  # a dense layer as suggested by neuralNer\n",
    "\n",
    "out = TimeDistributed(Dense(n_tags + 1, activation=\"softmax\"))(main_dense)\n",
    "\n",
    "model = Model([word_in, char_in], out)"
   ]
  },
  {
   "cell_type": "code",
   "execution_count": 16,
   "metadata": {},
   "outputs": [],
   "source": [
    "# Train the model: compile the model and look at the summary.\n",
    "#model.compile(optimizer=\"adam\", loss=\"sparse_categorical_crossentropy\")\n",
    "model.compile(optimizer='adam', loss='sparse_categorical_crossentropy', metrics=['accuracy'])\n",
    "#model.compile(optimizer=\"adam\", loss=\"sparse_categorical_crossentropy\", metrics=[\"acc\"])"
   ]
  },
  {
   "cell_type": "code",
   "execution_count": 17,
   "metadata": {},
   "outputs": [
    {
     "name": "stdout",
     "output_type": "stream",
     "text": [
      "Model: \"model_1\"\n",
      "__________________________________________________________________________________________________\n",
      "Layer (type)                    Output Shape         Param #     Connected to                     \n",
      "==================================================================================================\n",
      "input_2 (InputLayer)            (None, 100, 30)      0                                            \n",
      "__________________________________________________________________________________________________\n",
      "input_1 (InputLayer)            (None, 100)          0                                            \n",
      "__________________________________________________________________________________________________\n",
      "time_distributed_1 (TimeDistrib (None, 100, 30, 30)  3060        input_2[0][0]                    \n",
      "__________________________________________________________________________________________________\n",
      "embedding_1 (Embedding)         (None, 100, 64)      1625280     input_1[0][0]                    \n",
      "__________________________________________________________________________________________________\n",
      "time_distributed_2 (TimeDistrib (None, 100, 100)     52400       time_distributed_1[0][0]         \n",
      "__________________________________________________________________________________________________\n",
      "concatenate_1 (Concatenate)     (None, 100, 164)     0           embedding_1[0][0]                \n",
      "                                                                 time_distributed_2[0][0]         \n",
      "__________________________________________________________________________________________________\n",
      "spatial_dropout1d_1 (SpatialDro (None, 100, 164)     0           concatenate_1[0][0]              \n",
      "__________________________________________________________________________________________________\n",
      "bidirectional_1 (Bidirectional) (None, 100, 200)     212000      spatial_dropout1d_1[0][0]        \n",
      "__________________________________________________________________________________________________\n",
      "time_distributed_3 (TimeDistrib (None, 100, 100)     20100       bidirectional_1[0][0]            \n",
      "__________________________________________________________________________________________________\n",
      "time_distributed_4 (TimeDistrib (None, 100, 14)      1414        time_distributed_3[0][0]         \n",
      "==================================================================================================\n",
      "Total params: 1,914,254\n",
      "Trainable params: 1,914,254\n",
      "Non-trainable params: 0\n",
      "__________________________________________________________________________________________________\n"
     ]
    },
    {
     "data": {
      "image/png": "[encoded data removed]",
      "text/plain": [
       "<IPython.core.display.Image object>"
      ]
     },
     "execution_count": 17,
     "metadata": {},
     "output_type": "execute_result"
    }
   ],
   "source": [
    "model.summary()\n",
    "plot_model(model, to_file='model2_WL_CL_BiLSTM.png', show_shapes=True, show_layer_names=True)"
   ]
  },
  {
   "cell_type": "code",
   "execution_count": 18,
   "metadata": {},
   "outputs": [
    {
     "name": "stdout",
     "output_type": "stream",
     "text": [
      "Train on 20360 samples, validate on 5090 samples\n",
      "Epoch 1/20\n",
      " - 1276s - loss: 0.3000 - acc: 0.9318 - val_loss: 0.0835 - val_acc: 0.9739\n",
      "Epoch 2/20\n",
      " - 1267s - loss: 0.0600 - acc: 0.9803 - val_loss: 0.0423 - val_acc: 0.9874\n",
      "Epoch 3/20\n",
      " - 1192s - loss: 0.0341 - acc: 0.9888 - val_loss: 0.0311 - val_acc: 0.9907\n",
      "Epoch 4/20\n",
      " - 991s - loss: 0.0246 - acc: 0.9919 - val_loss: 0.0260 - val_acc: 0.9927\n",
      "Epoch 5/20\n",
      " - 966s - loss: 0.0192 - acc: 0.9937 - val_loss: 0.0235 - val_acc: 0.9937\n",
      "Epoch 6/20\n",
      " - 969s - loss: 0.0159 - acc: 0.9948 - val_loss: 0.0226 - val_acc: 0.9940\n",
      "Epoch 7/20\n",
      " - 970s - loss: 0.0136 - acc: 0.9955 - val_loss: 0.0199 - val_acc: 0.9949\n",
      "Epoch 8/20\n",
      " - 963s - loss: 0.0115 - acc: 0.9962 - val_loss: 0.0210 - val_acc: 0.9948\n",
      "Epoch 9/20\n",
      " - 966s - loss: 0.0100 - acc: 0.9968 - val_loss: 0.0206 - val_acc: 0.9950\n",
      "Epoch 10/20\n",
      " - 961s - loss: 0.0082 - acc: 0.9973 - val_loss: 0.0208 - val_acc: 0.9951\n",
      "Epoch 11/20\n",
      " - 956s - loss: 0.0076 - acc: 0.9975 - val_loss: 0.0231 - val_acc: 0.9947\n",
      "Epoch 12/20\n",
      " - 950s - loss: 0.0067 - acc: 0.9978 - val_loss: 0.0206 - val_acc: 0.9956\n",
      "Epoch 13/20\n",
      " - 961s - loss: 0.0060 - acc: 0.9981 - val_loss: 0.0210 - val_acc: 0.9954\n",
      "Epoch 14/20\n",
      " - 956s - loss: 0.0051 - acc: 0.9984 - val_loss: 0.0206 - val_acc: 0.9956\n",
      "Epoch 15/20\n",
      " - 962s - loss: 0.0045 - acc: 0.9985 - val_loss: 0.0209 - val_acc: 0.9959\n",
      "Epoch 16/20\n",
      " - 962s - loss: 0.0042 - acc: 0.9986 - val_loss: 0.0224 - val_acc: 0.9956\n",
      "Epoch 17/20\n",
      " - 957s - loss: 0.0037 - acc: 0.9988 - val_loss: 0.0221 - val_acc: 0.9961\n",
      "Epoch 18/20\n",
      " - 961s - loss: 0.0034 - acc: 0.9989 - val_loss: 0.0220 - val_acc: 0.9959\n",
      "Epoch 19/20\n",
      " - 962s - loss: 0.0031 - acc: 0.9989 - val_loss: 0.0230 - val_acc: 0.9958\n",
      "Epoch 20/20\n",
      " - 956s - loss: 0.0029 - acc: 0.9990 - val_loss: 0.0231 - val_acc: 0.9959\n"
     ]
    }
   ],
   "source": [
    "#history = model.fit([X_word_tr,\n",
    "#                     np.array(X_char_tr).reshape((len(X_char_tr), max_len, max_len_char))],\n",
    "#                    np.array(y_tr).reshape(len(y_tr), max_len, 1),\n",
    "#                    batch_size=32, epochs=100, validation_split=0.1, verbose=1)\n",
    "history = model.fit([X_word_tr,\n",
    "                     np.array(X_char_tr).reshape((len(X_char_tr), max_len, max_len_char))],\n",
    "                    np.array(y_tr).reshape(len(y_tr), max_len, 1),\n",
    "                    batch_size=32, epochs=20, validation_split=0.2, verbose=2)"
   ]
  },
  {
   "cell_type": "code",
   "execution_count": 19,
   "metadata": {},
   "outputs": [
    {
     "data": {
      "image/png": "[encoded data removed]",
      "text/plain": [
       "<Figure size 360x360 with 1 Axes>"
      ]
     },
     "metadata": {},
     "output_type": "display_data"
    },
    {
     "data": {
      "image/png": "[encoded data removed]",
      "text/plain": [
       "<Figure size 360x360 with 1 Axes>"
      ]
     },
     "metadata": {},
     "output_type": "display_data"
    }
   ],
   "source": [
    "hist = pd.DataFrame(history.history)\n",
    "\n",
    "import matplotlib.pyplot as plt\n",
    "plt.style.use(\"ggplot\")\n",
    "plt.figure(figsize=(5,5))\n",
    "plt.plot(hist[\"loss\"])\n",
    "plt.plot(hist[\"val_loss\"])\n",
    "\n",
    "plt.figure(figsize=(5,5))\n",
    "plt.plot(hist[\"acc\"])\n",
    "plt.plot(hist[\"val_acc\"])\n",
    "plt.show()"
   ]
  },
  {
   "cell_type": "code",
   "execution_count": 20,
   "metadata": {},
   "outputs": [],
   "source": [
    "# Save the model\n",
    "from keras.models import load_model\n",
    "\n",
    "#model.save(r\"C:/Users/20230326/wamex/data/2020_model_WL_CL_BiLSTM.h5\")  # creates a HDF5 file 'my_model.h5'\n",
    "model.save(r\"../1-2 OzROCK/Files/autolabelled_MODEL_WL_CL_BiLSTM.h5\")\n",
    "#del model  # deletes the existing model"
   ]
  },
  {
   "cell_type": "raw",
   "metadata": {},
   "source": [
    "# TEST this\n",
    "# returns a compiled model, identical to the previous one\n",
    "model_loaded = load_model(r\"../1-2 OzROCK/Files/autolabelled_MODEL_WL_CL_BiLSTM.h5\")\n",
    "y_pred = model_loaded.predict([X_word_te,\n",
    "                        np.array(X_char_te).reshape((len(X_char_te), max_len, max_len_char))])\n",
    "len(y_pred)"
   ]
  },
  {
   "cell_type": "markdown",
   "metadata": {},
   "source": [
    "# TEST SET - auto-labelled using dictionary\n",
    "## to see the model performance"
   ]
  },
  {
   "cell_type": "code",
   "execution_count": 21,
   "metadata": {},
   "outputs": [
    {
     "data": {
      "text/plain": [
       "6363"
      ]
     },
     "execution_count": 21,
     "metadata": {},
     "output_type": "execute_result"
    }
   ],
   "source": [
    "y_pred = model.predict([X_word_te,\n",
    "                        np.array(X_char_te).reshape((len(X_char_te), max_len, max_len_char))])\n",
    "len(y_pred)"
   ]
  },
  {
   "cell_type": "code",
   "execution_count": 22,
   "metadata": {},
   "outputs": [],
   "source": [
    "def print_prediction(i):\n",
    "    p = np.argmax(y_pred[i], axis=-1)\n",
    "    print(\"{:15}|{:15}|{}\".format(\"Word\", \"Truth\", \"Predicted\"))\n",
    "    print(40 * \"=\")\n",
    "\n",
    "    for w, t, pred in zip(X_word_te[i], y_te[i], p):\n",
    "        if w != 0:\n",
    "            print(\"{:15} {:15} {}\".format(idx2word[w], idx2tag[t], idx2tag[pred]))        "
   ]
  },
  {
   "cell_type": "raw",
   "metadata": {},
   "source": [
    "#for i in range(0, len(y_pred)):\n",
    "for i in range(0, 10):\n",
    "    print_prediction(i)"
   ]
  },
  {
   "cell_type": "code",
   "execution_count": 23,
   "metadata": {},
   "outputs": [],
   "source": [
    "len(y_pred) # Number of sentences in prediction / test set\n",
    "\n",
    "def get_results(i):\n",
    "    words_value = []\n",
    "    tags_true = []\n",
    "    tags_pred = []\n",
    "    p = np.argmax(y_pred[i], axis=-1)\n",
    "    #print(\"{:15}||{:5}||{}\".format(\"Word\", \"True\", \"Pred\"))\n",
    "    #print(30 * \"=\")\n",
    "\n",
    "    for w, t, pred in zip(X_word_te[i], y_te[i], p):\n",
    "        if w != 0:\n",
    "            #print(\"{:15}: {:5} {}\".format(idx2word[w], idx2tag[t], idx2tag[pred]))\n",
    "            words_value.append(idx2word[w])\n",
    "            tags_true.append(idx2tag[t])\n",
    "            tags_pred.append(idx2tag[pred])\n",
    "            \n",
    "    return words_value, tags_true, tags_pred"
   ]
  },
  {
   "cell_type": "code",
   "execution_count": 24,
   "metadata": {},
   "outputs": [],
   "source": [
    "#for i in range(0, len(y_pred)):\n",
    "words_tagged = []\n",
    "labels_true = []\n",
    "labels_predicted = []\n",
    "\n",
    "for i in range(0, len(y_pred)):\n",
    "    words_value, tags_true, tags_pred = get_results(i)\n",
    "    words_tagged.extend(words_value)\n",
    "    labels_true.extend(tags_true)\n",
    "    labels_predicted.extend(tags_pred)"
   ]
  },
  {
   "cell_type": "code",
   "execution_count": 25,
   "metadata": {},
   "outputs": [
    {
     "name": "stdout",
     "output_type": "stream",
     "text": [
      "174604\n",
      "174604\n",
      "             precision    recall  f1-score   support\n",
      "\n",
      "   LOCATION     0.9666    0.9791    0.9728      3928\n",
      "      STRAT     0.9016    0.9649    0.9322      1026\n",
      "       ROCK     0.9724    0.9749    0.9737      5028\n",
      "    MINERAL     0.9935    0.9908    0.9922      4351\n",
      "ORE_DEPOSIT     0.9605    0.9620    0.9613       632\n",
      "  TIMESCALE     0.9981    0.9944    0.9963       538\n",
      "\n",
      "avg / total     0.9726    0.9799    0.9762     15503\n",
      "\n"
     ]
    }
   ],
   "source": [
    "from seqeval.metrics import precision_score, recall_score, f1_score, classification_report\n",
    "\n",
    "print(len(labels_true))\n",
    "#print(y_te[0])\n",
    "\n",
    "print(len(labels_predicted))\n",
    "#print(y_pred[0])\n",
    "\n",
    "#print(classification_report(labels_true, labels_predicted))\n",
    "print(classification_report(labels_true, labels_predicted, digits=4))"
   ]
  },
  {
   "cell_type": "code",
   "execution_count": 26,
   "metadata": {},
   "outputs": [
    {
     "name": "stdout",
     "output_type": "stream",
     "text": [
      "['O', 'O', 'O', 'O', 'O', 'O', 'O', 'O', 'O', 'O']\n",
      "['O', 'O', 'O', 'O', 'O', 'O', 'O', 'O', 'O', 'O']\n"
     ]
    }
   ],
   "source": [
    "print(labels_true[:10])\n",
    "print(labels_predicted[:10])"
   ]
  },
  {
   "cell_type": "code",
   "execution_count": 27,
   "metadata": {},
   "outputs": [
    {
     "data": {
      "text/plain": [
       "31813"
      ]
     },
     "execution_count": 27,
     "metadata": {},
     "output_type": "execute_result"
    }
   ],
   "source": [
    "# Predict all labels for the all auto-labelling dataset of 32,000 sentences\n",
    "y_pred_all = model.predict([X_word,\n",
    "                        np.array(X_char).reshape((len(X_char), max_len, max_len_char))])\n",
    "len(y_pred_all)"
   ]
  },
  {
   "cell_type": "code",
   "execution_count": 28,
   "metadata": {},
   "outputs": [
    {
     "name": "stdout",
     "output_type": "stream",
     "text": [
      "31813\n",
      "31813\n",
      "31813\n"
     ]
    }
   ],
   "source": [
    "print(len(y_pred_all))\n",
    "print(len(y))\n",
    "print(len(X_word))"
   ]
  },
  {
   "cell_type": "code",
   "execution_count": 29,
   "metadata": {},
   "outputs": [
    {
     "name": "stdout",
     "output_type": "stream",
     "text": [
      "BIG_set_byModel.txt file saved.\n"
     ]
    }
   ],
   "source": [
    "# Save the prediction for the all auto-labelling dataset of 32,000 sentences\n",
    "f = open(r\"../1-2 OzROCK/Files/OzROCK dataset/BIG_set_byModel.txt\", 'w')\n",
    "f.write(\"Word DictionaryTag ModelTag\\n\")\n",
    "for i in range(0, len(y_pred_all)):    \n",
    "    p = np.argmax(y_pred_all[i], axis=-1)    \n",
    "    #print(40 * \"=\")\n",
    "\n",
    "    for w, pred, dic in zip(X_word[i], y[i], p):\n",
    "        if w != 0:\n",
    "            #print(\"{:15} {:15} {}\".format(idx2word[w], idx2tag[t], idx2tag[pred]))  \n",
    "            f.write(idx2word[w] + ' ' + idx2tag[pred] + ' ' + idx2tag[dic] + '\\n')\n",
    "        if idx2word[w] == '.':\n",
    "            f.write('\\n')\n",
    "f.close()\n",
    "print('BIG_set_byModel.txt file saved.')"
   ]
  },
  {
   "cell_type": "raw",
   "metadata": {},
   "source": [
    "len(word2idx)\n",
    "len(test_sentences)\n",
    "print(test_sentences[0:3])"
   ]
  },
  {
   "cell_type": "code",
   "execution_count": 30,
   "metadata": {},
   "outputs": [],
   "source": [
    "# Merge the all auto-labelling dataset of 32,000 sentences\n",
    "\n"
   ]
  },
  {
   "cell_type": "markdown",
   "metadata": {},
   "source": [
    "# EVALUATION SET - Manually annotated by experts\n",
    "## Manually annotated dataset for model evaluation"
   ]
  },
  {
   "cell_type": "code",
   "execution_count": 31,
   "metadata": {},
   "outputs": [
    {
     "name": "stdout",
     "output_type": "stream",
     "text": [
      "[9 1 9 9 9 9 9 9 2 3 3 9 9 2 3 9 9 9 2 3 9 0 0 0 0 0 0 0 0 0 0 0 0 0 0 0 0\n",
      " 0 0 0 0 0 0 0 0 0 0 0 0 0 0 0 0 0 0 0 0 0 0 0 0 0 0 0 0 0 0 0 0 0 0 0 0 0\n",
      " 0 0 0 0 0 0 0 0 0 0 0 0 0 0 0 0 0 0 0 0 0 0 0 0 0 0]\n",
      "Test set word shape =  (2000, 100)\n",
      "Test set character length =  2000\n",
      "Test set labels length =  2000\n"
     ]
    }
   ],
   "source": [
    "# Get the word ids for each sentence\n",
    "test_X_word = [[word2idx[w[0]] for w in s] for s in test_sentences]\n",
    "\n",
    "# Pad the sentences\n",
    "test_X_word = pad_sequences(maxlen=max_len, sequences=test_X_word, value=word2idx[\"PAD\"], padding='post', truncating='post')\n",
    "\n",
    "test_X_char = []\n",
    "for sentence in test_sentences:\n",
    "    sent_seq = []\n",
    "    for i in range(max_len):\n",
    "        word_seq = []\n",
    "        for j in range(max_len_char):\n",
    "            try:\n",
    "                word_seq.append(char2idx.get(sentence[i][0][j]))\n",
    "            except:\n",
    "                word_seq.append(char2idx.get(\"PAD\"))\n",
    "        sent_seq.append(word_seq)\n",
    "    test_X_char.append(np.array(sent_seq))\n",
    "    \n",
    "# Map tags to a sequence numbers and the pad\n",
    "test_y = [[tag2idx[w[1]] for w in s] for s in test_sentences]\n",
    "print(y[0])\n",
    "\n",
    "test_y = pad_sequences(maxlen=max_len, sequences=test_y, value=tag2idx[\"PAD\"], padding='post', truncating='post')\n",
    "#print(test_y[0])\n",
    "\n",
    "print('Test set word shape = ', test_X_word.shape)\n",
    "print('Test set character length = ', len(test_X_char))\n",
    "print('Test set labels length = ', len(test_y))"
   ]
  },
  {
   "cell_type": "code",
   "execution_count": 32,
   "metadata": {},
   "outputs": [
    {
     "data": {
      "text/plain": [
       "2000"
      ]
     },
     "execution_count": 32,
     "metadata": {},
     "output_type": "execute_result"
    }
   ],
   "source": [
    "# Predict the labels on the manually created TEST SET\n",
    "test_y_pred = model.predict([test_X_word, np.array(test_X_char).reshape((len(test_X_char), max_len, max_len_char))])\n",
    "len(test_y_pred) # Number of sentences in prediction / test set"
   ]
  },
  {
   "cell_type": "code",
   "execution_count": 36,
   "metadata": {},
   "outputs": [
    {
     "name": "stdout",
     "output_type": "stream",
     "text": [
      "51275\n",
      "51275\n",
      "             precision    recall  f1-score   support\n",
      "\n",
      "   LOCATION     0.5833    0.6784    0.6273       970\n",
      "       ROCK     0.7488    0.7723    0.7604      1853\n",
      "      STRAT     0.7517    0.6889    0.7189       646\n",
      "    MINERAL     0.7669    0.9038    0.8297      1278\n",
      "  TIMESCALE     0.9417    0.9327    0.9372       208\n",
      "ORE_DEPOSIT     0.8169    0.7859    0.8011       369\n",
      "\n",
      "avg / total     0.7356    0.7838    0.7575      5324\n",
      "\n"
     ]
    }
   ],
   "source": [
    "def get_test_results(i):\n",
    "    words_value = []\n",
    "    tags_true = []\n",
    "    tags_pred = []\n",
    "    p = np.argmax(test_y_pred[i], axis=-1)\n",
    "    #print(\"{:15}||{:5}||{}\".format(\"Word\", \"True\", \"Pred\"))\n",
    "    #print(30 * \"=\")\n",
    "\n",
    "    for w, t, pred in zip(test_X_word[i], test_y[i], p):\n",
    "        if w != 0:\n",
    "            #print(\"{:15}: {:5} {}\".format(idx2word[w], idx2tag[t], idx2tag[pred]))\n",
    "            words_value.append(idx2word[w])\n",
    "            tags_true.append(idx2tag[t])\n",
    "            tags_pred.append(idx2tag[pred])\n",
    "            \n",
    "    return words_value, tags_true, tags_pred\n",
    "\n",
    "words_tagged = []\n",
    "labels_true = []\n",
    "labels_predicted = []\n",
    "\n",
    "for i in range(0, len(test_y_pred)):\n",
    "    words_value, tags_true, tags_pred = get_test_results(i)\n",
    "    words_tagged.extend(words_value)\n",
    "    labels_true.extend(tags_true)\n",
    "    labels_predicted.extend(tags_pred)\n",
    "    \n",
    "print(len(labels_true))\n",
    "#print(y_te[2000])\n",
    "\n",
    "print(len(labels_predicted))\n",
    "#print(y_pred[2000])\n",
    "\n",
    "#print(classification_report(labels_true, labels_predicted))\n",
    "print(classification_report(labels_true, labels_predicted, digits=4))"
   ]
  },
  {
   "cell_type": "code",
   "execution_count": 34,
   "metadata": {},
   "outputs": [
    {
     "name": "stdout",
     "output_type": "stream",
     "text": [
      "File saved.\n"
     ]
    }
   ],
   "source": [
    "f = open(filename_result, 'w')\n",
    "f.write(\"Word GroundTruth Predicted\\n\")\n",
    "for i in range(0, len(test_y_pred)):    \n",
    "    p = np.argmax(test_y_pred[i], axis=-1)    \n",
    "    #print(40 * \"=\")\n",
    "\n",
    "    for w, t, pred in zip(test_X_word[i], test_y[i], p):\n",
    "        if w != 0:\n",
    "            #print(\"{:15} {:15} {}\".format(idx2word[w], idx2tag[t], idx2tag[pred]))  \n",
    "            f.write(idx2word[w] + ' ' + idx2tag[t] + ' ' + idx2tag[pred] + '\\n')\n",
    "        if idx2word[w] == '.':\n",
    "            f.write('\\n')\n",
    "f.close()\n",
    "#for i in range(0, 10):\n",
    "    #test_prediction(i)\n",
    "print('File saved.')"
   ]
  },
  {
   "cell_type": "raw",
   "metadata": {},
   "source": [
    "print(\"{:15}|{:15}|{}\".format(\"Word\", \"GroundTruth\", \"Predicted\"))\n",
    "print(40 * \"=\")\n",
    "\n",
    "for i in range(0, len(test_y_pred)):     \n",
    "    p = np.argmax(test_y_pred[i], axis=-1)\n",
    "    for w, t, pred in zip(test_X_word[i], test_y[i], p):\n",
    "        if w != 0:\n",
    "            if idx2tag[t] != idx2tag[pred]:\n",
    "                print(\"{:15} {:15} {:15} {}\".format(idx2word[w], idx2tag[t], idx2tag[pred], i))"
   ]
  },
  {
   "cell_type": "raw",
   "metadata": {},
   "source": [
    "c = 0\n",
    "for s in test_sentences:\n",
    "    for w in s:\n",
    "        c += 1\n",
    "        print(c, w, tag2idx[w[1]])"
   ]
  },
  {
   "cell_type": "code",
   "execution_count": null,
   "metadata": {},
   "outputs": [],
   "source": []
  },
  {
   "cell_type": "raw",
   "metadata": {},
   "source": [
    "!pip install seqeval"
   ]
  }
 ],
 "metadata": {
  "kernelspec": {
   "display_name": "Python 3",
   "language": "python",
   "name": "python3"
  },
  "language_info": {
   "codemirror_mode": {
    "name": "ipython",
    "version": 3
   },
   "file_extension": ".py",
   "mimetype": "text/x-python",
   "name": "python",
   "nbconvert_exporter": "python",
   "pygments_lexer": "ipython3",
   "version": "3.8.3"
  }
 },
 "nbformat": 4,
 "nbformat_minor": 4
}
